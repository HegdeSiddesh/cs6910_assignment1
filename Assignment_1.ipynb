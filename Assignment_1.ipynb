{
  "cells": [
    {
      "cell_type": "markdown",
      "metadata": {
        "id": "view-in-github",
        "colab_type": "text"
      },
      "source": [
        "<a href=\"https://colab.research.google.com/github/HegdeSiddesh/cs6910_assignment1/blob/main/Assignment_1.ipynb\" target=\"_parent\"><img src=\"https://colab.research.google.com/assets/colab-badge.svg\" alt=\"Open In Colab\"/></a>"
      ]
    },
    {
      "cell_type": "code",
      "execution_count": null,
      "metadata": {
        "id": "ZijUCAyFx5_s"
      },
      "outputs": [],
      "source": [
        "from keras.datasets import fashion_mnist\n",
        "import matplotlib.pyplot as plt \n",
        "from sklearn.preprocessing import OneHotEncoder\n",
        "from sklearn.model_selection import train_test_split\n",
        "import pandas as pd\n",
        "import numpy as np\n",
        "import random\n",
        "np.random.seed(137) # To ensure that the random number generated are the same for every iteration\n",
        "import warnings\n",
        "#warnings.filterwarnings(\"ignore\")\n",
        "!pip install wandb -qq\n",
        "import wandb\n",
        "#from wandb.keras import WandbCallback"
      ]
    },
    {
      "cell_type": "code",
      "execution_count": null,
      "metadata": {
        "colab": {
          "base_uri": "https://localhost:8080/",
          "height": 69
        },
        "id": "wDIk96MJvcIw",
        "outputId": "4108667b-93ba-4386-e205-370f7b73429b"
      },
      "outputs": [
        {
          "output_type": "display_data",
          "data": {
            "application/javascript": [
              "\n",
              "        window._wandbApiKey = new Promise((resolve, reject) => {\n",
              "            function loadScript(url) {\n",
              "            return new Promise(function(resolve, reject) {\n",
              "                let newScript = document.createElement(\"script\");\n",
              "                newScript.onerror = reject;\n",
              "                newScript.onload = resolve;\n",
              "                document.body.appendChild(newScript);\n",
              "                newScript.src = url;\n",
              "            });\n",
              "            }\n",
              "            loadScript(\"https://cdn.jsdelivr.net/npm/postmate/build/postmate.min.js\").then(() => {\n",
              "            const iframe = document.createElement('iframe')\n",
              "            iframe.style.cssText = \"width:0;height:0;border:none\"\n",
              "            document.body.appendChild(iframe)\n",
              "            const handshake = new Postmate({\n",
              "                container: iframe,\n",
              "                url: 'https://wandb.ai/authorize'\n",
              "            });\n",
              "            const timeout = setTimeout(() => reject(\"Couldn't auto authenticate\"), 5000)\n",
              "            handshake.then(function(child) {\n",
              "                child.on('authorize', data => {\n",
              "                    clearTimeout(timeout)\n",
              "                    resolve(data)\n",
              "                });\n",
              "            });\n",
              "            })\n",
              "        });\n",
              "    "
            ],
            "text/plain": [
              "<IPython.core.display.Javascript object>"
            ]
          },
          "metadata": {}
        },
        {
          "output_type": "stream",
          "name": "stderr",
          "text": [
            "\u001b[34m\u001b[1mwandb\u001b[0m: Appending key for api.wandb.ai to your netrc file: /root/.netrc\n"
          ]
        },
        {
          "output_type": "execute_result",
          "data": {
            "text/plain": [
              "True"
            ]
          },
          "metadata": {},
          "execution_count": 2
        }
      ],
      "source": [
        "wandb.login()"
      ]
    },
    {
      "cell_type": "code",
      "execution_count": null,
      "metadata": {
        "colab": {
          "base_uri": "https://localhost:8080/",
          "height": 73
        },
        "id": "k6svSX9E0qof",
        "outputId": "e42347ff-5e09-4444-c617-15930c361549"
      },
      "outputs": [
        {
          "output_type": "stream",
          "name": "stderr",
          "text": [
            "\u001b[34m\u001b[1mwandb\u001b[0m: Currently logged in as: \u001b[33mhegdesiddesh\u001b[0m (use `wandb login --relogin` to force relogin)\n"
          ]
        },
        {
          "output_type": "display_data",
          "data": {
            "text/html": [
              "\n",
              "                    Syncing run <strong><a href=\"https://wandb.ai/hegdesiddesh/Assignment_1/runs/3p5wnvan\" target=\"_blank\">Question_1</a></strong> to <a href=\"https://wandb.ai/hegdesiddesh/Assignment_1\" target=\"_blank\">Weights & Biases</a> (<a href=\"https://docs.wandb.com/integrations/jupyter.html\" target=\"_blank\">docs</a>).<br/>\n",
              "\n",
              "                "
            ],
            "text/plain": [
              "<IPython.core.display.HTML object>"
            ]
          },
          "metadata": {}
        },
        {
          "output_type": "execute_result",
          "data": {
            "text/plain": [
              "<wandb.sdk.wandb_run.Run at 0x7faaed233550>"
            ],
            "text/html": [
              "<button onClick=\"this.nextSibling.style.display='block';this.style.display='none';\">Display W&B run</button><iframe src=\"https://wandb.ai/hegdesiddesh/Assignment_1/runs/3p5wnvan?jupyter=true\" style=\"border:none;width:100%;height:420px;display:none;\"></iframe>"
            ]
          },
          "metadata": {},
          "execution_count": 3
        }
      ],
      "source": [
        "wandb.init(project=\"Assignment_1\", name=\"Question_1\")"
      ]
    },
    {
      "cell_type": "markdown",
      "metadata": {
        "id": "PFOtZvG_lePo"
      },
      "source": [
        "##Question 1\n",
        "\n",
        "Download the fashion-MNIST dataset and plot 1 sample image for each class."
      ]
    },
    {
      "cell_type": "code",
      "execution_count": null,
      "metadata": {
        "id": "NZGh0_vIRXEY"
      },
      "outputs": [],
      "source": [
        "#Load the fashion MNIST data \n",
        "(x_train_full, y_train_full), (x_test, y_test) = fashion_mnist.load_data()\n",
        "\n",
        "#Normalize the data\n",
        "x_train_full = x_train_full/255.0\n",
        "x_test = x_test/255.0\n",
        "\n",
        "#Splitting to get 10% data as validation set\n",
        "x_train, x_val, y_train, y_val = train_test_split(x_train_full, y_train_full, test_size=0.1, random_state=137)\n",
        "\n",
        "y_train_unencoded = y_train\n",
        "#One hot encoding of the class labels\n",
        "encoder = OneHotEncoder()\n",
        "y_train = encoder.fit_transform(np.expand_dims(y_train,1)).toarray()\n",
        "y_val = encoder.fit_transform(np.expand_dims(y_val,1)).toarray()\n",
        "y_test = encoder.fit_transform(np.expand_dims(y_test,1)).toarray()"
      ]
    },
    {
      "cell_type": "code",
      "execution_count": null,
      "metadata": {
        "id": "jL5eKXe4SWzK"
      },
      "outputs": [],
      "source": [
        "#Get indices for the unique class labels\n",
        "unique_indices = np.unique(y_train_unencoded, return_index=True)\n",
        "\n",
        "# Label reference : https://github.com/zalandoresearch/fashion-mnist\n",
        "image_label = {0: \"T-shirt/top\", 1: \"Trouser\", 2: \"Pullover\", 3: \"Dress\", 4: \"Coat\", 5: \"Sandal\", 6: \"Shirt\", 7: \"Sneaker\", 8: \"Bag\", 9: \"Ankle boot\"}"
      ]
    },
    {
      "cell_type": "code",
      "execution_count": null,
      "metadata": {
        "colab": {
          "base_uri": "https://localhost:8080/",
          "height": 544
        },
        "id": "2prn-gAWVQMQ",
        "outputId": "33be3149-98c0-4043-befa-68bca8de4e51"
      },
      "outputs": [
        {
          "output_type": "display_data",
          "data": {
            "image/png": "[encoded data removed]",
            "text/plain": [
              "<Figure size 1440x1440 with 10 Axes>"
            ]
          },
          "metadata": {}
        }
      ],
      "source": [
        "image_num=0\n",
        "f, axarr = plt.subplots(2,5, sharex='col', sharey='row', figsize=(20,20))\n",
        "plt.subplots_adjust(bottom=0.3, top=0.7, hspace=0)\n",
        "\n",
        "# Plotting 2*5 subplot of images of different labels\n",
        "for i in range(0,2):\n",
        "  for j in range(0,5):\n",
        "    axarr[i,j].imshow(x_train[unique_indices[1][image_num]])\n",
        "    axarr[i,j].set_title(image_label[image_num], fontdict = {'fontsize' : 30})\n",
        "    axarr[i,j].set_xticks([])\n",
        "    axarr[i,j].set_yticks([])\n",
        "    caption = image_label[image_num]\n",
        "    wandb.log({\"examples\": [wandb.Image(x_train[unique_indices[1][image_num]], caption=caption)]})\n",
        "    image_num += 1\n",
        "\n",
        "plt.show()"
      ]
    },
    {
      "cell_type": "code",
      "execution_count": null,
      "metadata": {
        "colab": {
          "base_uri": "https://localhost:8080/",
          "height": 124,
          "referenced_widgets": [
            "7ededccfbc214ed69a9bf924a121296c",
            "31b806c3dfbe4571bdc9c78d04e55a41",
            "e7af6308beb24f8d81182f0acbad4b21",
            "481f9ce3cb4d48509c79ef8e1101d748",
            "215ed5b847404f92a77103f51360254b",
            "242b12af22324835b52156ce7f7a25f8",
            "a3d5637b1acd41bfb4672621109ed7d9",
            "8669e47953d24d3b8052e9bf0145cf1a"
          ]
        },
        "id": "OGKGha-r7Y0k",
        "outputId": "68201c47-326a-4ad9-ad3e-570ae2741d00"
      },
      "outputs": [
        {
          "output_type": "display_data",
          "data": {
            "text/html": [
              "<br/>Waiting for W&B process to finish, PID 2978... <strong style=\"color:green\">(success).</strong>"
            ],
            "text/plain": [
              "<IPython.core.display.HTML object>"
            ]
          },
          "metadata": {}
        },
        {
          "output_type": "display_data",
          "data": {
            "application/vnd.jupyter.widget-view+json": {
              "model_id": "7ededccfbc214ed69a9bf924a121296c",
              "version_minor": 0,
              "version_major": 2
            },
            "text/plain": [
              "VBox(children=(Label(value=' 0.01MB of 0.01MB uploaded (0.00MB deduped)\\r'), FloatProgress(value=1.0, max=1.0)…"
            ]
          },
          "metadata": {}
        },
        {
          "output_type": "display_data",
          "data": {
            "text/html": [
              "<style>\n",
              "    table.wandb td:nth-child(1) { padding: 0 10px; text-align: right }\n",
              "    .wandb-row { display: flex; flex-direction: row; flex-wrap: wrap; width: 100% }\n",
              "    .wandb-col { display: flex; flex-direction: column; flex-basis: 100%; flex: 1; padding: 10px; }\n",
              "    </style>\n",
              "<div class=\"wandb-row\"><div class=\"wandb-col\">\n",
              "</div><div class=\"wandb-col\">\n",
              "</div></div>\n",
              "Synced 4 W&B file(s), 10 media file(s), 0 artifact file(s) and 0 other file(s)\n",
              "<br/>Synced <strong style=\"color:#cdcd00\">Question_1</strong>: <a href=\"https://wandb.ai/hegdesiddesh/Assignment_1/runs/3p5wnvan\" target=\"_blank\">https://wandb.ai/hegdesiddesh/Assignment_1/runs/3p5wnvan</a><br/>\n",
              "Find logs at: <code>./wandb/run-20220221_193112-3p5wnvan/logs</code><br/>\n"
            ],
            "text/plain": [
              "<IPython.core.display.HTML object>"
            ]
          },
          "metadata": {}
        }
      ],
      "source": [
        "wandb.finish()"
      ]
    },
    {
      "cell_type": "markdown",
      "metadata": {
        "id": "o4MuTlxYlZCH"
      },
      "source": [
        "##Question 2\n",
        "\n",
        "Implement a feedforward neural network which takes images from the fashion-mnist data as input and outputs a probability distribution over the 10 classes.\n",
        "\n",
        "\n",
        "\n",
        "Your code should be flexible so that it is easy to change the number of hidden layers and the number of neurons in each hidden layer.\n",
        "\n",
        "\n",
        "\n"
      ]
    },
    {
      "cell_type": "code",
      "execution_count": null,
      "metadata": {
        "id": "RIkkCFuMlcPA"
      },
      "outputs": [],
      "source": [
        "class FeedForwardNeuralNetwork():\n",
        "  def __init__(self, hidden_layer_sizes, epochs, learning_rate):\n",
        "    self.hidden_layer_sizes = hidden_layer_sizes\n",
        "    self.learning_rate = learning_rate\n",
        "    self.input_layer_size=0\n",
        "    self.output_layer_size=1\n",
        "    self.epochs = epochs\n",
        "    self.weights = {}\n",
        "    self.biases = {}\n",
        "    self.A = {}\n",
        "    self.H = {}\n",
        "    self.dw = {}\n",
        "    self.db = {}\n",
        "    self.dA = {}\n",
        "    self.dH = {}\n",
        "    #Layer sizes array will be initialzed after input and output layer size is obtained\n",
        "    self.layer_sizes = []\n",
        "\n",
        "  def initialize_weights(self):\n",
        "    self.layer_sizes = [self.input_layer_size] + self.hidden_layer_sizes + [self.output_layer_size]\n",
        "    weight_counts = len(self.hidden_layer_sizes)+1\n",
        "    np.random.seed(137)\n",
        "    for i in range(weight_counts):\n",
        "      # Setting up the weights per layer. Initialized randomly as matrix of size of previous layer * next layer \n",
        "      self.weights[i+1] = np.random.randn(self.layer_sizes[i], self.layer_sizes[i+1])\n",
        "      # Setting up the biases per layer. Initialized to 0 as matrix of size of 1 * next layer \n",
        "      # Creates a row of biases corresponding to each weight of the layer\n",
        "      self.biases[i+1] = np.zeros((1, self.layer_sizes[i+1]))\n",
        "\n",
        "\n",
        "\n",
        "  def softmax(self, X):\n",
        "    #Utility to compute softmax function\n",
        "    exponentials = np.exp(X)\n",
        "    return exponentials / np.sum(exponentials)\n",
        "\n",
        "  def sigmoid(self,X):\n",
        "    #Utility to compute sigmoid function\n",
        "    return 1.0/(1.0+np.exp(-X))\n",
        "\n",
        "  def sigmoid_gradient(self,X):\n",
        "    #Utility to compute sigmoid function\n",
        "    #sigmoid = self.sigmoid(X)\n",
        "    return X*(1-X)\n",
        "\n",
        "  def cross_entropy(self,Y_true,Y_pred):\n",
        "    #Utility to compute cross entropy loss\n",
        "    # loss= -np.sum(np.sum(Y_true*np.log(Y_pred)))\n",
        "    # return loss\n",
        "    yl=np.multiply(Y_pred,Y_true)\n",
        "    yl=yl[yl!=0]\n",
        "    yl=-np.log(yl)\n",
        "    yl=np.mean(yl)\n",
        "    return yl\n",
        "\n",
        "  def cross_entropy_gradient(self,Y_true,Y_pred):\n",
        "    #Utility to compute gradient of cross entropy loss\n",
        "    return -Y_true/(Y_pred)\n",
        "\n",
        "  def tanh(self,X):\n",
        "    # Utility to compute tanh function\n",
        "    return np.tanh(X)\n",
        "\n",
        "  def tanh_derivate(self,X):\n",
        "    # Utility to compute tanh derivative\n",
        "    return 1 - (np.tanh(X) ** 2)\n",
        "\n",
        "  def relu(self,X):\n",
        "    # Utility to compute relu function\n",
        "    return X * (X > 0)\n",
        "\n",
        "  def relu_derivative(self,X):\n",
        "    # Utility to compute relu derivative\n",
        "    X[X <= 0.0] = 0.0\n",
        "    X[X > 0.0] = 1.0\n",
        "    return X\n",
        "\n",
        "\n",
        "  def forward_propogation(self, X):\n",
        "\n",
        "    self.A = {}\n",
        "    self.H = {}\n",
        "    #Initialize the output from input layer as H[0] into a single row(row vector)\n",
        "    self.H[0] = X.reshape(1,-1)\n",
        "    #print((self.H[0]).dtype)\n",
        "    self.H[0] = self.H[0].astype('float128')\n",
        "\n",
        "\n",
        "    #Compute a(x) = W_x*h(x-1) + b and h(a(x)) = sigmoid(a(x)) for hidden layer\n",
        "    for i in range(len(self.hidden_layer_sizes)):\n",
        "      self.A[i+1] = np.matmul(self.H[i], self.weights[i+1]) + self.biases[i+1]\n",
        "      self.H[i+1] = self.sigmoid(self.A[i+1])\n",
        "\n",
        "    #Compute a(x) and h(a(x)) = softmax(a(x)) for output layer\n",
        "    self.A[len(self.hidden_layer_sizes)+1] = np.matmul(self.H[len(self.hidden_layer_sizes)], self.weights[len(self.hidden_layer_sizes)+1]) + self.biases[len(self.hidden_layer_sizes)+1]\n",
        "    self.H[len(self.hidden_layer_sizes)+1] = self.softmax(self.A[len(self.hidden_layer_sizes)+1]) \n",
        "    return\n",
        "\n",
        "  def backward_propogation(self, X, Y,  dw_i, db_i):\n",
        "\n",
        "    #Compute the gradient of loss wrt the activation of output layer\n",
        "    #self.dH[len(self.hidden_layer_sizes)+1] = self.cross_entropy_gradient(Y, self.H[len(self.hidden_layer_sizes)+1])\n",
        "    self.dA[len(self.hidden_layer_sizes)+1] = -(Y - self.H[len(self.hidden_layer_sizes)+1])#cross_entropy_gradient(Y, self.H[len(self.hidden_layer_sizes)+1])\n",
        "\n",
        "    #Compute the partial derivatives for the weights and biases of the layers\n",
        "    for i in range(len(self.hidden_layer_sizes), -1, -1):\n",
        "      #eg:(assuming 2 hidden layers) dL/dW3 = dA3/dW3 * dL/dA3 = d(W3*H2 + B3)/dW3 * dL/dA3 = H2 * dL/dA3\n",
        "      dw_i[i+1] = np.matmul(self.H[i].T, self.dA[i+1])\n",
        "      #eg:(assuming 2 hidden layers) dL/dB3 = dA3/dB3 * dL/dA3 = d(W3*H2 + B3)/dB3 * dL/dA3 = 1 * dL/dA3\n",
        "      db_i[i+1] = self.dA[i+1]\n",
        "      #eg:(assuming 2 hidden layers) dL/dH2 = dA3/dH2 * dL/dA3 = d(W3*H2 + B3)/dH2 * dL/dA3 = W3 * dL/dA3\n",
        "      self.dH[i] = np.matmul(self.dA[i+1],self.weights[i+1].T)\n",
        "      #eg:(assuming 2 hidden layers) dL/dA2 = dH2/dA2 * dL/dH2 = d(sigmoid(A2))/dA2 * dL/dH2 = sigmoid(A2) * (1-sigmoid(A2)) * dL/dH2 (for sigmoid activation)\n",
        "      ## THIS IS HADAMARD PRODUCT IE NOT DOT PRODUCT\n",
        "      self.dA[i] = np.multiply(self.sigmoid_gradient(self.H[i]), self.dH[i])    \n",
        "    return\n",
        "\n",
        "\n",
        "  def gradient_descent(self):\n",
        "    for i in range(len(self.hidden_layer_sizes)+1):\n",
        "        # w_t = w_{t-1} - eta*(dL/dw)\n",
        "        self.weights[i+1] = self.weights[i+1] - self.learning_rate * self.dw[i+1]\n",
        "        # b_t = b_{t-1} - eta*(dL/db)\n",
        "        self.biases[i+1] = self.biases[i+1] - self.learning_rate * self.db[i+1]\n",
        "    return \n",
        "\n",
        "\n",
        "\n",
        "  def fit(self, X, Y):\n",
        "    self.input_layer_size = X.shape[1]*X.shape[1] # Number of features in data(features)\n",
        "    self.output_layer_size = Y.shape[1] # Number of columns in output (label count)\n",
        "    self.initialize_weights()\n",
        "    for e in range(self.epochs):\n",
        "      #Gradients computed for this iteration/epoch\n",
        "      y_preds = []\n",
        "\n",
        "      for i in range(len(self.hidden_layer_sizes)+1):\n",
        "        self.dw[i+1] = np.zeros((self.layer_sizes[i], self.layer_sizes[i+1]))\n",
        "        self.db[i+1] = np.zeros((1, self.layer_sizes[i+1]))\n",
        "\n",
        "      for x, y in zip(X, Y):\n",
        "        dw_i = {}\n",
        "        db_i = {}\n",
        "\n",
        "        #Forward Propogation\n",
        "        self.forward_propogation(x)\n",
        "\n",
        "        #loss and prediction class\n",
        "        y_preds.append(self.H[len(self.hidden_layer_sizes)+1])\n",
        "        \n",
        "        #Backward Propogation using Loss funtion MSE\n",
        "        self.backward_propogation(x,y, dw_i, db_i) \n",
        "\n",
        "        for i in range(len(self.hidden_layer_sizes)+1):\n",
        "          self.dw[i+1] += dw_i[i+1]\n",
        "          self.db[i+1] += db_i[i+1]\n",
        "\n",
        "      #Update weights based on loss(GD hence once every epoch update)\n",
        "      self.gradient_descent()\n",
        "      y_preds = np.array(y_preds).squeeze()\n",
        "      print(\"Epoch: \",e,\" Loss: \",self.cross_entropy(Y, y_preds) )\n",
        "\n",
        "\n",
        "  def predict(self, X):\n",
        "    #Find the predictions based on the fitted model\n",
        "    values = self.forward_propogation(X)\n",
        "    predictions = self.H[len(self.hidden_layer_sizes)+1]\n",
        "    return predictions\n",
        "      \n"
      ]
    },
    {
      "cell_type": "code",
      "execution_count": null,
      "metadata": {
        "colab": {
          "base_uri": "https://localhost:8080/"
        },
        "id": "p9x4PVjA2oAf",
        "outputId": "c60f9437-d7d2-4c02-db24-d772712e99bb"
      },
      "outputs": [
        {
          "name": "stdout",
          "output_type": "stream",
          "text": [
            "Epoch:  0  Loss:  11.158632878711602577\n",
            "Epoch:  1  Loss:  56.459906650211561987\n",
            "Epoch:  2  Loss:  103.18513388453057602\n",
            "Epoch:  3  Loss:  145.23074438298768855\n",
            "Epoch:  4  Loss:  178.47091976878302264\n",
            "Epoch:  5  Loss:  203.24233294268224395\n",
            "Epoch:  6  Loss:  190.9932346744848967\n",
            "Epoch:  7  Loss:  194.9111013237063116\n",
            "Epoch:  8  Loss:  202.96914933221613472\n",
            "Epoch:  9  Loss:  242.3250418288858484\n"
          ]
        }
      ],
      "source": [
        "from sklearn.preprocessing import OneHotEncoder\n",
        "\n",
        "encoder = OneHotEncoder()\n",
        "y_encoded = encoder.fit_transform(np.expand_dims(y_train,1)).toarray()\n",
        "\n",
        "model = FeedForwardNeuralNetwork([100,256, 512], 10, 0.0001)\n",
        "\n",
        "model.fit(x_train[0:10000], y_encoded[0:10000])"
      ]
    },
    {
      "cell_type": "code",
      "execution_count": null,
      "metadata": {
        "colab": {
          "base_uri": "https://localhost:8080/"
        },
        "id": "cGfs-NCc6sOx",
        "outputId": "a4d0fc3d-a585-49bf-9c61-d7a16f4abf19"
      },
      "outputs": [
        {
          "name": "stdout",
          "output_type": "stream",
          "text": [
            "[[4.76421650e-181 2.33680966e-048 6.93618127e-127 9.99987452e-001\n",
            "  3.24047033e-121 4.81472199e-103 7.04679134e-200 1.33738844e-116\n",
            "  1.25479764e-005 1.31170781e-156]]\n",
            "[0. 0. 0. 0. 0. 0. 0. 0. 0. 1.]\n",
            "[[4.76421650e-181 2.33680966e-048 6.93618127e-127 9.99987452e-001\n",
            "  3.24047033e-121 4.81472199e-103 7.04679134e-200 1.33738844e-116\n",
            "  1.25479764e-005 1.31170781e-156]]\n",
            "[1. 0. 0. 0. 0. 0. 0. 0. 0. 0.]\n",
            "[[4.76421650e-181 2.33680966e-048 6.93618127e-127 9.99987452e-001\n",
            "  3.24047033e-121 4.81472199e-103 7.04679134e-200 1.33738844e-116\n",
            "  1.25479764e-005 1.31170781e-156]]\n",
            "[1. 0. 0. 0. 0. 0. 0. 0. 0. 0.]\n",
            "[[4.76421650e-181 2.33680966e-048 6.93618127e-127 9.99987452e-001\n",
            "  3.24047033e-121 4.81472199e-103 7.04679134e-200 1.33738844e-116\n",
            "  1.25479764e-005 1.31170781e-156]]\n",
            "[0. 0. 0. 1. 0. 0. 0. 0. 0. 0.]\n",
            "[[4.76421650e-181 2.33680966e-048 6.93618127e-127 9.99987452e-001\n",
            "  3.24047033e-121 4.81472199e-103 7.04679134e-200 1.33738844e-116\n",
            "  1.25479764e-005 1.31170781e-156]]\n",
            "[1. 0. 0. 0. 0. 0. 0. 0. 0. 0.]\n",
            "[[4.76421650e-181 2.33680966e-048 6.93618127e-127 9.99987452e-001\n",
            "  3.24047033e-121 4.81472199e-103 7.04679134e-200 1.33738844e-116\n",
            "  1.25479764e-005 1.31170781e-156]]\n",
            "[0. 0. 1. 0. 0. 0. 0. 0. 0. 0.]\n",
            "[[4.76421650e-181 2.33680966e-048 6.93618127e-127 9.99987452e-001\n",
            "  3.24047033e-121 4.81472199e-103 7.04679134e-200 1.33738844e-116\n",
            "  1.25479764e-005 1.31170781e-156]]\n",
            "[0. 0. 0. 0. 0. 0. 0. 1. 0. 0.]\n",
            "[[4.76421650e-181 2.33680966e-048 6.93618127e-127 9.99987452e-001\n",
            "  3.24047033e-121 4.81472199e-103 7.04679134e-200 1.33738844e-116\n",
            "  1.25479764e-005 1.31170781e-156]]\n",
            "[0. 0. 1. 0. 0. 0. 0. 0. 0. 0.]\n",
            "[[4.76421650e-181 2.33680966e-048 6.93618127e-127 9.99987452e-001\n",
            "  3.24047033e-121 4.81472199e-103 7.04679134e-200 1.33738844e-116\n",
            "  1.25479764e-005 1.31170781e-156]]\n",
            "[0. 0. 0. 0. 0. 1. 0. 0. 0. 0.]\n",
            "[[4.76421650e-181 2.33680966e-048 6.93618127e-127 9.99987452e-001\n",
            "  3.24047033e-121 4.81472199e-103 7.04679134e-200 1.33738844e-116\n",
            "  1.25479764e-005 1.31170781e-156]]\n",
            "[0. 0. 0. 0. 0. 1. 0. 0. 0. 0.]\n"
          ]
        }
      ],
      "source": [
        "#Check predictions for first 10 datapoints\n",
        "for i in range(10):\n",
        "  print(model.predict(x_train[i]))\n",
        "  print(y_encoded[i])\n"
      ]
    },
    {
      "cell_type": "markdown",
      "metadata": {
        "id": "6BL7YAWCXxkp"
      },
      "source": [
        "Issue might be in sending dw_i to the functions (check call by value or call by reference)"
      ]
    },
    {
      "cell_type": "markdown",
      "metadata": {
        "id": "LWscsEOVQzct"
      },
      "source": [
        "##Question 3"
      ]
    },
    {
      "cell_type": "code",
      "execution_count": null,
      "metadata": {
        "id": "XneW6CI0Qx6_"
      },
      "outputs": [],
      "source": [
        "##Create classes for loss functions\n",
        "#cross entropy loss\n",
        "\n",
        "#Create classes for optimizers\n",
        "#1.SGD\n",
        "#2.NAG\n",
        "#3.Momentum\n",
        "#4.rmsprop\n",
        "#7.adam\n",
        "#6.nadam\n"
      ]
    },
    {
      "cell_type": "code",
      "execution_count": null,
      "metadata": {
        "id": "T3TTUmCwZUH8"
      },
      "outputs": [],
      "source": [
        "def accuracy(y_true, y_pred):\n",
        "  acc = np.sum(np.equal(y_true,y_pred))/y_true.shape[0]\n",
        "  return acc"
      ]
    },
    {
      "cell_type": "code",
      "execution_count": null,
      "metadata": {
        "id": "3gAqONnE7xSn"
      },
      "outputs": [],
      "source": [
        "class FeedForwardNeuralNetwork():\n",
        "  def __init__(self, hidden_layer_sizes, optimizer, loss_function, activation_function, output_activation, epochs = 1000, batch_size = 1024, initialization = \"Random\", log=0):\n",
        "    self.hidden_layer_sizes = hidden_layer_sizes\n",
        "    self.optimizer = optimizer\n",
        "    self.loss_function = loss_function\n",
        "    self.activation_function = activation_function\n",
        "    self.output_activation = output_activation\n",
        "    self.input_layer_size=0\n",
        "    self.output_layer_size=1\n",
        "    self.epochs = epochs\n",
        "    self.batch_size = batch_size\n",
        "    self.initialization = initialization\n",
        "    self.weights = {}\n",
        "    self.biases = {}\n",
        "    self.A = {}\n",
        "    self.H = {}\n",
        "    self.dw = {}\n",
        "    self.db = {}\n",
        "    self.dA = {}\n",
        "    self.dH = {}\n",
        "    #Layer sizes array will be initialzed after input and output layer size is obtained\n",
        "    self.layer_sizes = []\n",
        "    self.log = log\n",
        "\n",
        "\n",
        "  def initialize_weights(self):\n",
        "    self.layer_sizes = [self.input_layer_size] + self.hidden_layer_sizes + [self.output_layer_size]\n",
        "    weight_counts = len(self.hidden_layer_sizes)+1\n",
        "    np.random.seed(137)\n",
        "    np.random.RandomState(137)\n",
        "    self.optimizer.initialize(self.layer_sizes)\n",
        "    for i in range(weight_counts):\n",
        "\n",
        "      if self.initialization == \"Random\":\n",
        "        # Setting up the weights per layer. Initialized randomly as matrix of size of previous layer * next layer \n",
        "        self.weights[i+1] = np.random.randn(self.layer_sizes[i], self.layer_sizes[i+1])\n",
        "        # Setting up the biases per layer. Initialized to 0 as matrix of size of 1 * next layer \n",
        "        # Creates a row of biases corresponding to each weight of the layer\n",
        "\n",
        "      if self.initialization == \"Xavier-Normal\":\n",
        "        limit = np.sqrt(2 / float(self.layer_sizes[i] + self.layer_sizes[i+1]))\n",
        "        self.weights[i+1] = np.random.normal(0.0, limit, size=(self.layer_sizes[i], self.layer_sizes[i+1]))\n",
        "\n",
        "      if self.initialization == \"Xavier-Uniform\":\n",
        "        limit = np.sqrt(6 / float(self.layer_sizes[i] + self.layer_sizes[i+1]))\n",
        "        self.weights[i+1] = np.random.uniform(low=-limit, high=limit, size=(self.layer_sizes[i], self.layer_sizes[i+1]))\n",
        "\n",
        "      self.biases[i+1] = np.zeros((1, self.layer_sizes[i+1]))\n",
        "\n",
        "\n",
        "  def forward_propogation(self, X):\n",
        "\n",
        "    self.A = {}\n",
        "    self.H = {}\n",
        "    #Initialize the output from input layer as H[0] into a single row(row vector)\n",
        "    self.H[0] = X.reshape(1,-1)\n",
        "    #print((self.H[0]).dtype)\n",
        "    #self.H[0] = self.H[0].astype('float128')\n",
        "\n",
        "    #Compute a(x) = W_x*h(x-1) and h(a(x)) = sigmoid(a(x)) for hidden layer\n",
        "    for i in range(len(self.hidden_layer_sizes)):\n",
        "      self.A[i+1] = np.matmul(self.H[i], self.weights[i+1]) + self.biases[i+1]\n",
        "      #print(\"A :\",np.isfinite(self.A[i+1]).all())\n",
        "      self.H[i+1] = self.activation_function.compute_activation(self.A[i+1])\n",
        "      #print(\"H :\",np.isfinite(self.H[i+1]).all())\n",
        "\n",
        "    #Compute a(x) and h(a(x)) = softmax(a(x)) for output layer\n",
        "    self.A[len(self.hidden_layer_sizes)+1] = np.matmul(self.H[len(self.hidden_layer_sizes)], self.weights[len(self.hidden_layer_sizes)+1]) + self.biases[len(self.hidden_layer_sizes)+1]\n",
        "    #print(\"A :\",np.isfinite(self.A[len(self.hidden_layer_sizes)+1]).all())\n",
        "    self.H[len(self.hidden_layer_sizes)+1] = self.output_activation.compute_activation(self.A[len(self.hidden_layer_sizes)+1]) \n",
        "    #print(\"H :\",np.isfinite(self.H[len(self.hidden_layer_sizes)+1]).all())\n",
        "    return\n",
        "\n",
        "  def backward_propogation(self, X, Y,  dw_i, db_i):\n",
        "\n",
        "    #Compute the gradient of loss wrt the activation of output layer\n",
        "    #self.dH[len(self.hidden_layer_sizes)+1] = self.cross_entropy_gradient(Y, self.H[len(self.hidden_layer_sizes)+1])\n",
        "    #if self.loss_function.name() == \"squared_loss\":\n",
        "    self.dA[len(self.hidden_layer_sizes)+1] = self.loss_function.last_output_derivative(self.H[len(self.hidden_layer_sizes)+1], Y, self.output_activation.compute_derivative(self.A[len(self.hidden_layer_sizes)+1]))\n",
        "    #else:\n",
        "    #  self.dA[len(self.hidden_layer_sizes)+1] = self.loss_function.last_output_derivative(self.H[len(self.hidden_layer_sizes)+1], Y) # -(Y - self.H[len(self.hidden_layer_sizes)+1])#cross_entropy_gradient(Y, self.H[len(self.hidden_layer_sizes)+1])\n",
        "\n",
        "    #Compute the partial derivatives for the weights and biases of the layers\n",
        "    for i in range(len(self.hidden_layer_sizes), -1, -1):\n",
        "      #eg:(assuming 2 hidden layers) dL/dW3 = dA3/dW3 * dL/dA3 = d(W3*H2 + B3)/dW3 * dL/dA3 = H2 * dL/dA3\n",
        "      dw_i[i+1] = np.matmul(self.H[i].T, self.dA[i+1])\n",
        "      #eg:(assuming 2 hidden layers) dL/dB3 = dA3/dB3 * dL/dA3 = d(W3*H2 + B3)/dB3 * dL/dA3 = 1 * dL/dA3\n",
        "      db_i[i+1] = self.dA[i+1]\n",
        "      if i!=0:\n",
        "        #eg:(assuming 2 hidden layers) dL/dH2 = dA3/dH2 * dL/dA3 = d(W3*H2 + B3)/dH2 * dL/dA3 = W3 * dL/dA3\n",
        "        self.dH[i] = np.matmul(self.dA[i+1],self.weights[i+1].T)\n",
        "        #eg:(assuming 2 hidden layers) dL/dA2 = dH2/dA2 * dL/dH2 = d(sigmoid(A2))/dA2 * dL/dH2 = sigmoid(A2) * (1-sigmoid(A2)) * dL/dH2 (for sigmoid activation)\n",
        "        ## THIS IS HADAMARD PRODUCT IE NOT DOT PRODUCT\n",
        "        self.dA[i] = np.multiply(self.activation_function.compute_derivative(self.A[i]), self.dH[i])    \n",
        "    return dw_i, db_i\n",
        "\n",
        "\n",
        "  def fit(self, X, Y, X_val, Y_val):\n",
        "    self.input_layer_size = X.shape[1]*X.shape[1] # Number of features in data(features)\n",
        "    self.output_layer_size = Y.shape[1] # Number of columns in output (label count)\n",
        "    self.initialize_weights()\n",
        "    #if self.optimizer.optimizer_name()==\"nag\":\n",
        "    #  self.optimizer.set_model(self, X, Y)\n",
        "    for e in range(self.epochs):\n",
        "      #Gradients computed for this iteration/epoch\n",
        "      y_preds = []\n",
        "\n",
        "      count = -1\n",
        "      for i in range(len(self.hidden_layer_sizes)+1):\n",
        "        self.dw[i+1] = np.zeros((self.layer_sizes[i], self.layer_sizes[i+1]))\n",
        "        self.db[i+1] = np.zeros((1, self.layer_sizes[i+1]))\n",
        "\n",
        "      for x, y in zip(X, Y):\n",
        "        dw_i = {}\n",
        "        db_i = {}\n",
        "        count += 1\n",
        "\n",
        "        if count==self.batch_size:\n",
        "          #print(\"Done wih batch\")\n",
        "          count = 0\n",
        "          if self.optimizer.optimizer_name()==\"nag\":\n",
        "            w_lookahead = {}\n",
        "            b_lookahead = {}\n",
        "            for i in range(len(self.hidden_layer_sizes)+1):\n",
        "              w_lookahead[i+1] = self.weights[i+1] - self.optimizer.gamma*self.optimizer.update_history_w[i+1]\n",
        "              b_lookahead[i+1] = self.biases[i+1] - self.optimizer.gamma*self.optimizer.update_history_b[i+1]\n",
        "            \n",
        "            weights_old = self.weights\n",
        "            biases_old = self.biases\n",
        "            self.weights = w_lookahead\n",
        "            self.biases = b_lookahead\n",
        "            self.forward_propogation(x)\n",
        "            dw_lookahead, db_lookahead = self.backward_propogation(x,y, dw_i, db_i) \n",
        "            self.weights, self.biases = self.optimizer.update_parameters(weights_old, biases_old, dw_lookahead, db_lookahead, self.hidden_layer_sizes)\n",
        "\n",
        "          else: \n",
        "            self.weights, self.biases = self.optimizer.update_parameters(self.weights, self.biases, self.dw, self.db, self.hidden_layer_sizes)\n",
        "          for i in range(len(self.hidden_layer_sizes)+1):\n",
        "            self.dw[i+1] = np.zeros((self.layer_sizes[i], self.layer_sizes[i+1]))\n",
        "            self.db[i+1] = np.zeros((1, self.layer_sizes[i+1]))\n",
        "\n",
        "\n",
        "        #Forward Propogation\n",
        "        self.forward_propogation(x)\n",
        "\n",
        "        #loss and prediction class\n",
        "        y_preds.append(self.H[len(self.hidden_layer_sizes)+1])\n",
        "        \n",
        "        #Backward Propogation using Loss funtion\n",
        "        self.backward_propogation(x,y, dw_i, db_i) \n",
        "\n",
        "        for i in range(len(self.hidden_layer_sizes)+1):\n",
        "          self.dw[i+1] += dw_i[i+1]\n",
        "          self.db[i+1] += db_i[i+1]\n",
        "\n",
        "      #Update weights based on loss(GD hence once every epoch update)\n",
        "      if self.optimizer.optimizer_name()==\"nag\":\n",
        "        w_lookahead = {}\n",
        "        b_lookahead = {}\n",
        "        for i in range(len(self.hidden_layer_sizes)+1):\n",
        "          w_lookahead[i+1] = self.weights[i+1] - self.optimizer.gamma*self.optimizer.update_history_w[i+1]\n",
        "          b_lookahead[i+1] = self.biases[i+1] - self.optimizer.gamma*self.optimizer.update_history_b[i+1]\n",
        "        \n",
        "        weights_old = self.weights\n",
        "        biases_old = self.biases\n",
        "        self.weights = w_lookahead\n",
        "        self.biases = b_lookahead\n",
        "        self.forward_propogation(x)\n",
        "        dw_lookahead, db_lookahead = self.backward_propogation(x,y, dw_i, db_i) \n",
        "        self.weights, self.biases = self.optimizer.update_parameters(weights_old, biases_old, dw_lookahead, db_lookahead, self.hidden_layer_sizes)\n",
        "\n",
        "      else:  \n",
        "        self.weights, self.biases = self.optimizer.update_parameters(self.weights, self.biases, self.dw, self.db, self.hidden_layer_sizes)\n",
        "      #self.gradient_descent()\n",
        "      y_preds = np.array(y_preds).squeeze()\n",
        "      y_preds_validation = self.predict(X_val)\n",
        "      training_loss = self.loss_function.compute_loss(Y, y_preds, self.batch_size)\n",
        "      validation_loss = self.loss_function.compute_loss(Y_val, y_preds_validation, self.batch_size)\n",
        "      training_accuracy = accuracy(np.argmax(Y,1), np.argmax(y_preds,1))\n",
        "      validation_accuracy = accuracy(np.argmax(Y_val,1), np.argmax(y_preds_validation,1))\n",
        "      if self.log==1:\n",
        "        #Log metrics to wandb\n",
        "        wandb.log({\"Training_accuracy\": training_accuracy, \"Validation_accuracy\": validation_accuracy, \"Training_loss\": training_loss, \"Validation_loss\": validation_loss, 'Epoch': e+1})\n",
        "\n",
        "      print(\"Epoch: \",e+1,\" Training Loss: \",training_loss, \" Validation Loss:\",validation_loss ,\" Training Accuracy: \",training_accuracy, \" Validation Accuracy:\", validation_accuracy)\n",
        "    \n",
        "    return training_loss, validation_loss, training_accuracy, validation_accuracy\n",
        "\n",
        "  def predict(self, X):\n",
        "    #Find the predictions based on the fitted model\n",
        "    y_pred = []\n",
        "    for x in X:\n",
        "      values = self.forward_propogation(x)\n",
        "      predictions = self.H[len(self.hidden_layer_sizes)+1]\n",
        "      y_pred.append(predictions)\n",
        "\n",
        "    y_pred = np.array(y_pred).squeeze()\n",
        "    return y_pred\n",
        "      \n"
      ]
    },
    {
      "cell_type": "code",
      "execution_count": null,
      "metadata": {
        "id": "l_N_uz7vTFYs"
      },
      "outputs": [],
      "source": [
        "class GD():\n",
        "  def __init__(self, learning_rate = 0.001, weight_decay = 0.0):\n",
        "    self.learning_rate = learning_rate\n",
        "    self.weight_decay = weight_decay\n",
        "\n",
        "  def set_learning_rate(self, learning_rate):\n",
        "    self.learning_rate = learning_rate\n",
        "\n",
        "  def set_weight_decay(self, weight_decay):\n",
        "    self.weight_decay = weight_decay\n",
        "\n",
        "  def set_initial_parameters(self, parameters):\n",
        "    self.learning_rate = parameters[\"learning_rate\"]\n",
        "    self.weight_decay = parameters[\"weight_decay\"]\n",
        "\n",
        "  def initialize(self, all_layers):\n",
        "    return\n",
        "\n",
        "  def optimizer_name(self):\n",
        "    return \"gd\"\n",
        "\n",
        "  def update_parameters(self, weights, biases, dw, db, layers):\n",
        "    for i in range(len(layers)+1):\n",
        "        dw[i+1] = dw[i+1] + self.weight_decay*weights[i+1]\n",
        "\n",
        "        # w_t = w_{t-1} - eta*(dL/dw)\n",
        "        weights[i+1] = weights[i+1] - self.learning_rate * dw[i+1]\n",
        "        # b_t = b_{t-1} - eta*(dL/db)\n",
        "        biases[i+1] = biases[i+1] - self.learning_rate * db[i+1]\n",
        "    return weights, biases\n",
        "\n",
        "\n",
        "class MomentumGD():\n",
        "  def __init__(self, learning_rate = 0.001, gamma = 0.001, weight_decay = 0.0):\n",
        "    self.learning_rate = learning_rate\n",
        "    self.gamma = gamma\n",
        "    self.initialized = False\n",
        "    self.weight_decay = weight_decay\n",
        "    self.update_history_w = {}\n",
        "    self.update_history_b = {}\n",
        "  \n",
        "  def optimizer_name(self):\n",
        "    return \"momentum\"\n",
        "\n",
        "  def set_weight_decay(self, weight_decay):\n",
        "    self.weight_decay = weight_decay\n",
        "  \n",
        "  def initialize(self, all_layers):\n",
        "    self.update_history_w.clear()\n",
        "    self.update_history_b.clear()\n",
        "    for i in range(len(all_layers)-1):\n",
        "      self.update_history_w[i+1] = np.zeros((all_layers[i], all_layers[i+1]))\n",
        "      self.update_history_b[i+1] = np.zeros((1, all_layers[i+1]))\n",
        "  \n",
        "  def set_learning_rate(self, learning_rate):\n",
        "    self.learning_rate = learning_rate\n",
        "\n",
        "  def set_initial_parameters(self, parameters):\n",
        "    self.learning_rate = parameters[\"learning_rate\"]\n",
        "    self.gamma = parameters[\"gamma\"]\n",
        "    self.weight_decay = parameters[\"weight_decay\"]\n",
        "\n",
        "    #layer_sizes = parameters[\"layer_sizes\"]\n",
        "    #for i in range(len(layer_sizes)-1):#Since we count for hidden layers and not output/input layer\n",
        "    #  self.update_history_w[i+1] = np.zeros((layer_sizes[i], layer_sizes[i+1]))\n",
        "    #  self.update_history_b[i+1] = np.zeros((1, layer_sizes[i+1]))\n",
        "\n",
        "\n",
        "  def update_parameters(self, weights, biases, dw, db, layers):\n",
        "\n",
        "    for i in range(len(layers)+1):\n",
        "        dw[i+1] = dw[i+1] + self.weight_decay*weights[i+1]\n",
        "\n",
        "        self.update_history_w[i+1] =self.gamma*self.update_history_w[i+1] + self.learning_rate*dw[i+1]\n",
        "        weights[i+1] = weights[i+1] - self.update_history_w[i+1]\n",
        "\n",
        "        self.update_history_b[i+1] =self.gamma*self.update_history_b[i+1] + self.learning_rate*db[i+1]\n",
        "        biases[i+1] = biases[i+1] - self.update_history_b[i+1]\n",
        "        \n",
        "    return weights, biases\n",
        "\n",
        "\n",
        "class NAG():\n",
        "  def __init__(self, learning_rate = 0.001, gamma = 0.9):\n",
        "    self.learning_rate = learning_rate\n",
        "    self.gamma = gamma\n",
        "    self.initialized = False\n",
        "    self.update_history_w = {}\n",
        "    self.update_history_b = {}\n",
        "    self.w_look_ahead={}\n",
        "    self.b_look_ahead={}\n",
        "    self.dw_look_ahead={}\n",
        "    self.db_look_ahead={}\n",
        "    #self.model = None\n",
        "    #self.X = None\n",
        "    #self.Y = None\n",
        "\n",
        "  #def set_model(self, model, X, Y):\n",
        "  #  self.model = model\n",
        "  #  self.X = X\n",
        "  #  self.Y = Y\n",
        "  \n",
        "  def optimizer_name(self):\n",
        "    return \"nag\"\n",
        "  \n",
        "  def initialize(self, all_layers):\n",
        "    self.update_history_w.clear()\n",
        "    self.update_history_b.clear()\n",
        "    self.dw_look_ahead.clear()\n",
        "    self.db_look_ahead.clear()\n",
        "    self.w_look_ahead.clear()\n",
        "    self.b_look_ahead.clear()\n",
        "\n",
        "    for i in range(len(all_layers)-1):\n",
        "      self.update_history_w[i+1] = np.zeros((all_layers[i], all_layers[i+1]))\n",
        "      self.update_history_b[i+1] = np.zeros((1, all_layers[i+1]))\n",
        "      self.dw_look_ahead[i+1] = np.zeros((all_layers[i], all_layers[i+1]))\n",
        "      self.db_look_ahead[i+1] = np.zeros((1, all_layers[i+1]))\n",
        "      self.w_look_ahead[i+1] = np.zeros((all_layers[i], all_layers[i+1]))\n",
        "      self.b_look_ahead[i+1] = np.zeros((1, all_layers[i+1]))\n",
        "\n",
        "  def set_learning_rate(self, learning_rate):\n",
        "    self.learning_rate = learning_rate\n",
        "\n",
        "  def set_initial_parameters(self, parameters):\n",
        "    self.learning_rate = parameters[\"learning_rate\"]\n",
        "    self.gamma = parameters[\"gamma\"]\n",
        "    #layer_sizes = parameters[\"layer_sizes\"]\n",
        "    #for i in range(len(layer_sizes)-1):#Since we count for hidden layers and not output/input layer\n",
        "    #  self.update_history_w[i+1] = np.zeros((layer_sizes[i], layer_sizes[i+1]))\n",
        "    #  self.update_history_b[i+1] = np.zeros((1, layer_sizes[i+1]))\n",
        "\n",
        "\n",
        "  def update_parameters(self, weights, biases, dw, db, layers):\n",
        "    \n",
        "    #for i in range(len(layers)+1):\n",
        "    #    self.w_look_ahead[i+1] = weights[i+1] - self.gamma*self.update_history_w[i+1]\n",
        "    #    self.b_look_ahead[i+1] = biases[i+1] - self.gamma*self.update_history_b[i+1]\n",
        "\n",
        "    #Compute backpropogation to obtain the gradients for lookahead parameters\n",
        "    #self.dw_look_ahead, self.db_look_ahead = self.model.backward_propogation(self.X, self.Y, self.w_look_ahead, self.b_look_ahead)\n",
        "\n",
        "    for i in range(len(layers)+1):\n",
        "\n",
        "        self.update_history_w[i+1] = self.gamma*self.update_history_w[i+1] + self.learning_rate*dw[i+1]\n",
        "        self.update_history_b[i+1] = self.gamma*self.update_history_b[i+1] + self.learning_rate*db[i+1]\n",
        "\n",
        "        weights[i+1] = weights[i+1] - self.update_history_w[i+1]\n",
        "        biases[i+1] = biases[i+1] - self.update_history_b[i+1]\n",
        "        \n",
        "    return weights, biases\n",
        "\n",
        "\n",
        "class RMSProp():\n",
        "  def __init__(self, learning_rate = 0.001, gamma = 0.001, epsilon = 1e-8, v_w = 0.001, v_b = 0.001, weight_decay = 0.0):\n",
        "    self.learning_rate = learning_rate\n",
        "    self.gamma = gamma\n",
        "    self.epsilon = epsilon\n",
        "    self.v_w = {}\n",
        "    self.v_b = {}\n",
        "    self.initialized = False\n",
        "    self.weight_decay = weight_decay\n",
        "\n",
        "  def initialize(self, all_layers):\n",
        "    self.v_w.clear()\n",
        "    self.v_b.clear()\n",
        "    for i in range(len(all_layers)-1):\n",
        "      self.v_w[i+1] = np.zeros((all_layers[i], all_layers[i+1]))\n",
        "      self.v_b[i+1] = np.zeros((1, all_layers[i+1]))\n",
        "  \n",
        "  def optimizer_name(self):\n",
        "    return \"rmsprop\"\n",
        "  \n",
        "  def set_learning_rate(self, learning_rate):\n",
        "    self.learning_rate = learning_rate\n",
        "\n",
        "  def set_weight_decay(self, weight_decay):\n",
        "    self.weight_decay = weight_decay\n",
        "\n",
        "  def set_initial_parameters(self, parameters):\n",
        "    self.learning_rate = parameters[\"learning_rate\"]\n",
        "    self.gamma = parameters[\"gamma\"]\n",
        "    self.epsilon = parameters[\"epsilon\"]\n",
        "    self.weight_decay = parameters[\"weight_decay\"]\n",
        "    #layer_sizes = parameters[\"layer_sizes\"]\n",
        "    #for i in range(len(layer_sizes)-1):#Since we count for hidden layers and not output/input layer\n",
        "    # self.v_w[i+1] = np.zeros((layer_sizes[i], layer_sizes[i+1]))\n",
        "    # self.v_b[i+1] = np.zeros((1, layer_sizes[i+1]))\n",
        "\n",
        "\n",
        "  def update_parameters(self, weights, biases, dw, db, layers):\n",
        "    #if self.initialized == False:\n",
        "      #self.initialized = True\n",
        "      #print(weights[1].shape[0])\n",
        "      #print(weights[len(weights)].shape[-1])\n",
        "      #all_layers = [weights[1].shape[0]] + layers + [weights[len(weights)].shape[-1]]\n",
        "      #for i in range(len(layers)+1):\n",
        "      #  self.v_w[i+1] = np.zeros((all_layers[i], all_layers[i+1]))\n",
        "      #  self.v_b[i+1] = np.zeros((1, all_layers[i+1]))\n",
        "\n",
        "    for i in range(len(layers)+1):\n",
        "        dw[i+1] = dw[i+1] + self.weight_decay*weights[i+1]\n",
        "        self.v_w[i+1] =self.gamma*self.v_w[i+1] + (1-self.gamma)* ((dw[i+1])**2)\n",
        "        self.v_b[i+1] =self.gamma*self.v_b[i+1] + (1-self.gamma)* ((db[i+1])**2)\n",
        "\n",
        "        weights[i+1] = weights[i+1] - ((self.learning_rate)/np.sqrt(self.v_w[i+1] + self.epsilon))*dw[i+1]\n",
        "        biases[i+1] = biases[i+1] - ((self.learning_rate)/np.sqrt(self.v_b[i+1] + self.epsilon))*db[i+1]\n",
        "        \n",
        "    return weights, biases\n",
        "\n",
        "\n",
        "class Adam():\n",
        "  def __init__(self, learning_rate = 0.001, gamma = 0.001, epsilon = 1e-8, weight_decay = 0.0):\n",
        "    self.learning_rate = learning_rate\n",
        "    self.beta1 = 0.9\n",
        "    self.beta2 = 0.999\n",
        "    self.epsilon = epsilon\n",
        "    self.initialized = False\n",
        "    self.v_w = {}\n",
        "    self.v_b = {}\n",
        "    self.m_w = {}\n",
        "    self.m_b = {}\n",
        "    self.iterations = 1\n",
        "    self.weight_decay = weight_decay\n",
        "\n",
        "  def initialize(self, all_layers):\n",
        "    self.v_w.clear()\n",
        "    self.v_b.clear()\n",
        "    self.m_w.clear()\n",
        "    self.m_b.clear()\n",
        "    for i in range(len(all_layers)-1):\n",
        "      self.v_w[i+1] = np.zeros((all_layers[i], all_layers[i+1]))\n",
        "      self.v_b[i+1] = np.zeros((1, all_layers[i+1]))\n",
        "      self.m_w[i+1] = np.zeros((all_layers[i], all_layers[i+1]))\n",
        "      self.m_b[i+1] = np.zeros((1, all_layers[i+1]))\n",
        "\n",
        "  def set_learning_rate(self, learning_rate):\n",
        "    self.learning_rate = learning_rate\n",
        "  \n",
        "  def set_weight_decay(self, weight_decay):\n",
        "    self.weight_decay = weight_decay\n",
        "  \n",
        "  def optimizer_name(self):\n",
        "    return \"adam\"\n",
        "\n",
        "  def set_initial_parameters(self, parameters):\n",
        "    self.learning_rate = parameters[\"learning_rate\"]\n",
        "    self.beta1 = parameters[\"beta1\"]\n",
        "    self.beta2 = parameters[\"beta2\"]\n",
        "    self.epsilon = parameters[\"epsilon\"]\n",
        "    self.weight_decay = parameters[\"weight_decay\"]\n",
        "    #layer_sizes = parameters[\"layer_sizes\"]\n",
        "    #for i in range(len(layer_sizes)-1):#Since we count for hidden layers and not output/input layer\n",
        "    #  self.v_w[i+1] = np.zeros((layer_sizes[i], layer_sizes[i+1]))\n",
        "    #  self.v_b[i+1] = np.zeros((1, layer_sizes[i+1]))\n",
        "    #  self.m_w[i+1] = np.zeros((layer_sizes[i], layer_sizes[i+1]))\n",
        "    #  self.m_b[i+1] = np.zeros((1, layer_sizes[i+1]))\n",
        "\n",
        "\n",
        "  def update_parameters(self, weights, biases, dw, db, layers):\n",
        "\n",
        "    #if self.initialized == False:\n",
        "    #  self.initialized = True\n",
        "    #  all_layers = [weights[1].shape[0]] + layers + [weights[len(weights)].shape[-1]]\n",
        "    #  for i in range(len(layers)+1):\n",
        "    #    self.v_w[i+1] = np.zeros((all_layers[i], all_layers[i+1]))\n",
        "    #    self.v_b[i+1] = np.zeros((1, all_layers[i+1]))\n",
        "    #    self.m_w[i+1] = np.zeros((all_layers[i], all_layers[i+1]))\n",
        "    #    self.m_b[i+1] = np.zeros((1, all_layers[i+1]))\n",
        "\n",
        "\n",
        "    for i in range(len(layers)+1):\n",
        "\n",
        "        dw[i+1] = dw[i+1] + self.weight_decay*weights[i+1]\n",
        "\n",
        "        self.m_w[i+1] = self.beta1*self.m_w[i+1] + (1-self.beta1)* (dw[i+1])\n",
        "        self.m_b[i+1] = self.beta1*self.m_b[i+1] + (1-self.beta1)* (db[i+1])\n",
        "\n",
        "        self.v_w[i+1] = self.beta2*self.v_w[i+1] + (1-self.beta2)* ((dw[i+1])**2)\n",
        "        self.v_b[i+1] = self.beta2*self.v_b[i+1] + (1-self.beta2)* ((db[i+1])**2)\n",
        "\n",
        "        m_w_hat = self.m_w[i+1]/(1-(self.beta1**self.iterations))\n",
        "        m_b_hat = self.m_b[i+1]/(1-(self.beta1**self.iterations))\n",
        "\t\t\t  \n",
        "        v_w_hat = self.v_w[i+1]/(1-(self.beta2**self.iterations))\n",
        "        v_b_hat = self.v_b[i+1]/(1-(self.beta2**self.iterations))\n",
        "\n",
        "        weights[i+1] = weights[i+1] - ((self.learning_rate)/(np.sqrt(v_w_hat) + self.epsilon))*(m_w_hat)\n",
        "        biases[i+1] = biases[i+1] - ((self.learning_rate)/(np.sqrt(v_b_hat) + self.epsilon))*(m_b_hat)\n",
        "\n",
        "    self.iterations += 1\n",
        "        \n",
        "    return weights, biases\n",
        "\n",
        "\n",
        "class Nadam():\n",
        "  #Reference : http://cs229.stanford.edu/proj2015/054_report.pdf\n",
        "  #Formula reference: https://towardsdatascience.com/10-gradient-descent-optimisation-algorithms-86989510b5e9\n",
        "  def __init__(self, learning_rate = 0.001, gamma = 0.001, epsilon = 1e-8, weight_decay = 0.0):\n",
        "    self.learning_rate = learning_rate\n",
        "    self.beta1 = 0.9\n",
        "    self.beta2 = 0.999\n",
        "    self.epsilon = epsilon\n",
        "    self.initialized = False\n",
        "    self.v_w = {}\n",
        "    self.v_b = {}\n",
        "    self.m_w = {}\n",
        "    self.m_b = {}\n",
        "    self.iterations = 1\n",
        "    self.weight_decay = weight_decay\n",
        "\n",
        "  def initialize(self, all_layers):\n",
        "    self.v_w.clear()\n",
        "    self.v_b.clear()\n",
        "    self.m_w.clear()\n",
        "    self.m_b.clear()\n",
        "    for i in range(len(all_layers)-1):\n",
        "      self.v_w[i+1] = np.zeros((all_layers[i], all_layers[i+1]))\n",
        "      self.v_b[i+1] = np.zeros((1, all_layers[i+1]))\n",
        "      self.m_w[i+1] = np.zeros((all_layers[i], all_layers[i+1]))\n",
        "      self.m_b[i+1] = np.zeros((1, all_layers[i+1]))\n",
        "\n",
        "  def set_learning_rate(self, learning_rate):\n",
        "    self.learning_rate = learning_rate\n",
        "\n",
        "  def set_weight_decay(self, weight_decay):\n",
        "    self.weight_decay = weight_decay\n",
        "  \n",
        "  def optimizer_name(self):\n",
        "    return \"nadam\"\n",
        "\n",
        "  def set_initial_parameters(self, parameters):\n",
        "    self.learning_rate = parameters[\"learning_rate\"]\n",
        "    self.beta1 = parameters[\"beta1\"]\n",
        "    self.beta2 = parameters[\"beta2\"]\n",
        "    self.epsilon = parameters[\"epsilon\"]\n",
        "    self.weight_decay = parameters[\"weight_decay\"]\n",
        "    #layer_sizes = parameters[\"layer_sizes\"]\n",
        "    #for i in range(len(layer_sizes)-1):#Since we count for hidden layers and not output/input layer\n",
        "    #  self.v_w[i+1] = np.zeros((layer_sizes[i], layer_sizes[i+1]))\n",
        "    #  self.v_b[i+1] = np.zeros((1, layer_sizes[i+1]))\n",
        "    #  self.m_w[i+1] = np.zeros((layer_sizes[i], layer_sizes[i+1]))\n",
        "    #  self.m_b[i+1] = np.zeros((1, layer_sizes[i+1]))\n",
        "\n",
        "\n",
        "  def update_parameters(self, weights, biases, dw, db, layers):\n",
        "\n",
        "    #if self.initialized == False:\n",
        "    #  self.initialized = True\n",
        "    #  all_layers = [weights[1].shape[0]] + layers + [weights[len(weights)].shape[-1]]\n",
        "    #  for i in range(len(layers)+1):\n",
        "    #    self.v_w[i+1] = np.zeros((all_layers[i], all_layers[i+1]))\n",
        "    #    self.v_b[i+1] = np.zeros((1, all_layers[i+1]))\n",
        "    #    self.m_w[i+1] = np.zeros((all_layers[i], all_layers[i+1]))\n",
        "    #    self.m_b[i+1] = np.zeros((1, all_layers[i+1]))\n",
        "\n",
        "\n",
        "    for i in range(len(layers)+1):\n",
        "\n",
        "        dw[i+1] = dw[i+1] + self.weight_decay*weights[i+1]\n",
        "\n",
        "        self.m_w[i+1] = self.beta1*self.m_w[i+1] + (1-self.beta1)* (dw[i+1])\n",
        "        self.m_b[i+1] = self.beta1*self.m_b[i+1] + (1-self.beta1)* (db[i+1])\n",
        "\n",
        "        self.v_w[i+1] = self.beta2*self.v_w[i+1] + (1-self.beta2)* ((dw[i+1])**2)\n",
        "        self.v_b[i+1] = self.beta2*self.v_b[i+1] + (1-self.beta2)* ((db[i+1])**2)\n",
        "\n",
        "        m_w_hat = self.m_w[i+1]/(1-(self.beta1**self.iterations))\n",
        "        m_b_hat = self.m_b[i+1]/(1-(self.beta1**self.iterations))\n",
        "\t\t\t  \n",
        "        v_w_hat = self.v_w[i+1]/(1-(self.beta2**self.iterations))\n",
        "        v_b_hat = self.v_b[i+1]/(1-(self.beta2**self.iterations))\n",
        "\n",
        "        weights[i+1] = weights[i+1] - ((self.learning_rate)/(np.sqrt(v_w_hat) + self.epsilon))*(self.beta1 * m_w_hat + ((1-self.beta1)/(1-(self.beta1**self.iterations))*dw[i+1]))\n",
        "        biases[i+1] = biases[i+1] - ((self.learning_rate)/(np.sqrt(v_b_hat) + self.epsilon))*(self.beta1 * m_b_hat + ((1-self.beta1)/(1-(self.beta1**self.iterations))*db[i+1]))\n",
        "\n",
        "    self.iterations += 1\n",
        "        \n",
        "    return weights, biases\n"
      ]
    },
    {
      "cell_type": "code",
      "execution_count": null,
      "metadata": {
        "id": "4bjDjyXzi2c5"
      },
      "outputs": [],
      "source": [
        "class Sigmoid():\n",
        "  def compute_activation(self, X):\n",
        "    return 1.0/(1.0+np.exp(-X))\n",
        "\n",
        "  def compute_derivative(self, X):\n",
        "    #Here X is the activation value\n",
        "    #sigmoid = compute_activation(X)\n",
        "    val = self.compute_activation(X)\n",
        "    return val*(1-val)\n",
        "\n",
        "class Softmax():\n",
        "  def compute_activation(self, X):\n",
        "    #Utility to compute softmax function\n",
        "    exponentials = np.exp(X)\n",
        "    return exponentials / np.sum(exponentials)\n",
        "\n",
        "  def compute_derivative(self, X):\n",
        "    #Here X is the activation value\n",
        "    softmax = self.compute_activation(X)\n",
        "    return softmax*(1-softmax)\n",
        "\n",
        "class Tanh():\n",
        "  def compute_activation(self,X):\n",
        "    return np.tanh(X)\n",
        "\n",
        "  def compute_derivative(self,X):\n",
        "    return 1 - (np.tanh(X) ** 2)\n",
        "\n",
        "class ReLU():\n",
        "  def compute_activation(self,X):\n",
        "    return X * (X > 0)\n",
        "\n",
        "  def compute_derivative(self,X):\n",
        "    X[X <= 0.0] = 0.0\n",
        "    X[X > 0.0] = 1.0\n",
        "    return X"
      ]
    },
    {
      "cell_type": "code",
      "execution_count": null,
      "metadata": {
        "id": "4VBEHbJu53sn"
      },
      "outputs": [],
      "source": [
        "class CrossEntropy():\n",
        "  def compute_loss(self, Y_true, Y_pred, batch_size):\n",
        "    for p in Y_pred[0]:\n",
        "      if np.isnan(p) or p<10e-8:\n",
        "        p=10e-8\n",
        "    loss=np.multiply(Y_pred,Y_true)\n",
        "    loss=loss[loss!=0]\n",
        "    loss=-np.log(loss)\n",
        "    loss=np.mean(loss)\n",
        "\n",
        "    #return (-np.sum(np.multiply(Y_true, np.log(Y_pred))))/batch_size\n",
        "    return loss\n",
        "\n",
        "  def name(self):\n",
        "    return \"cross_entropy_loss\"\n",
        "\n",
        "  def compute_derivative(self, Y_pred,Y_true):\n",
        "    return -Y_true/(Y_pred)\n",
        "\n",
        "  def last_output_derivative(self, Y_pred,Y_true,activation_derivative):\n",
        "    for p in Y_pred[0]:\n",
        "      #print(p)\n",
        "      if np.isnan(p) or p<10e-8:\n",
        "        p=10e-8\n",
        "    return -(Y_true - Y_pred)\n",
        "\n",
        "\n",
        "class SquaredErrorLoss():\n",
        "  def compute_loss(self, Y_true, Y_pred, batch_size):\n",
        "    #loss=np.multiply(Y_pred,Y_true)\n",
        "    #loss=loss[loss!=0]\n",
        "    #loss=-np.log(loss)\n",
        "    #loss=np.mean(loss)\n",
        "\n",
        "    return (1/2) * np.sum((Y_pred-Y_true)**2)/len(Y_true)\n",
        "    #return loss\n",
        "\n",
        "  def name(self):\n",
        "    return \"squared_loss\"\n",
        "\n",
        "  def compute_derivative(self, Y_pred,Y_true):\n",
        "    return (Y_pred)*(Y_pred-Y_true)/len(Y_true)\n",
        "\n",
        "  def last_output_derivative(self, Y_pred,Y_true, activation_derivative):\n",
        "    for p in Y_pred[0]:\n",
        "      if np.isnan(p) or p<10e-8:\n",
        "        p=10e-8\n",
        "    return (Y_pred - Y_true)*activation_derivative/len(Y_true)"
      ]
    },
    {
      "cell_type": "code",
      "execution_count": null,
      "metadata": {
        "colab": {
          "base_uri": "https://localhost:8080/"
        },
        "id": "fRbCux1s67h5",
        "outputId": "8c7e8c51-94b8-4fb0-8388-2a0c856e09f7"
      },
      "outputs": [
        {
          "output_type": "stream",
          "name": "stdout",
          "text": [
            "Epoch:  1  Training Loss:  0.4087083810474027  Validation Loss: 0.366896297644663  Training Accuracy:  0.3954814814814815  Validation Accuracy: 0.5351666666666667\n",
            "Epoch:  2  Training Loss:  0.33674837292953985  Validation Loss: 0.30761564810217856  Training Accuracy:  0.5490555555555555  Validation Accuracy: 0.5615\n",
            "Epoch:  3  Training Loss:  0.29165770637016536  Validation Loss: 0.2764169721998846  Training Accuracy:  0.5791851851851851  Validation Accuracy: 0.5991666666666666\n",
            "Epoch:  4  Training Loss:  0.2672150403412884  Validation Loss: 0.25841862873854227  Training Accuracy:  0.6169629629629629  Validation Accuracy: 0.629\n",
            "Epoch:  5  Training Loss:  0.2519475207418422  Validation Loss: 0.24626332871963533  Training Accuracy:  0.6444814814814814  Validation Accuracy: 0.6505\n"
          ]
        },
        {
          "output_type": "execute_result",
          "data": {
            "text/plain": [
              "(0.2519475207418422, 0.24626332871963533, 0.6444814814814814, 0.6505)"
            ]
          },
          "metadata": {},
          "execution_count": 13
        }
      ],
      "source": [
        "#Add layer sizes for the hidden layers\n",
        "layers = [32, 64, 128]\n",
        "\n",
        "\n",
        "#all_layers = [x_train.shape[1]*x_train.shape[1]] + layers + [y_encoded.shape[1]]\n",
        "\n",
        "\n",
        "optimizers = {\"gradient_descent\":GD(), \"momentum_gd\":MomentumGD(), \"nag\":NAG(), \"rmsprop\":RMSProp(), \"adam\":Adam(), \"nadam\":Nadam()}\n",
        "loss_functions = {\"cross_entropy\":CrossEntropy(), \"squared_loss\":SquaredErrorLoss()}\n",
        "activation_functions = {\"sigmoid\": Sigmoid(), \"softmax\":Softmax(), \"tanh\": Tanh(), \"ReLU\":ReLU()}\n",
        "\n",
        "\n",
        "#Select optimizer(sgd)\n",
        "optimizer_sgd = optimizers[\"gradient_descent\"]\n",
        "optimizer_parameters_sgd = {\"learning_rate\":0.001, \"weight_decay\":0.5}\n",
        "optimizer_sgd.set_initial_parameters(optimizer_parameters_sgd)\n",
        "\n",
        "#Select optimizer(momentum)\n",
        "optimizer_momentum = optimizers[\"momentum_gd\"]\n",
        "optimizer_parameters_momentum = {\"learning_rate\":0.0001, \"gamma\":0.6, \"weight_decay\":0}\n",
        "#optimizer_parameters_momentum = {\"learning_rate\":0.01, \"gamma\":0.9}\n",
        "\n",
        "optimizer_momentum.set_initial_parameters(optimizer_parameters_momentum)\n",
        "\n",
        "#Select optimizer(nag)\n",
        "optimizer_nag = optimizers[\"nag\"]\n",
        "optimizer_parameters_nag = {\"learning_rate\":0.001, \"gamma\":0.9}\n",
        "optimizer_nag.set_initial_parameters(optimizer_parameters_nag)\n",
        "\n",
        "#Select optimizer(rmsprop)\n",
        "optimizer_rmsprop = optimizers[\"rmsprop\"]\n",
        "optimizer_parameters_rmsprop = {\"learning_rate\":0.01, \"gamma\":0.9, \"epsilon\":1e-8, \"weight_decay\":0.5}\n",
        "optimizer_rmsprop.set_initial_parameters(optimizer_parameters_rmsprop)\n",
        "\n",
        "#Select optimizer(adam)\n",
        "optimizer_adam = optimizers[\"adam\"]\n",
        "optimizer_parameters_adam = {\"learning_rate\":0.0001, \"beta1\":0.09, \"beta2\":0.999, \"epsilon\":1e-8, \"weight_decay\":0.5}\n",
        "optimizer_adam.set_initial_parameters(optimizer_parameters_adam)\n",
        "\n",
        "#Select optimizer(nadam)\n",
        "optimizer_nadam = optimizers[\"nadam\"]\n",
        "optimizer_parameters_nadam = {\"learning_rate\":0.0001, \"beta1\":0.09, \"beta2\":0.999, \"epsilon\":1e-8, \"weight_decay\":0}\n",
        "optimizer_nadam.set_initial_parameters(optimizer_parameters_nadam)\n",
        "\n",
        "\n",
        "#Select loss function\n",
        "loss_cross_entropy = loss_functions[\"cross_entropy\"]\n",
        "loss_squared = loss_functions[\"squared_loss\"]\n",
        "\n",
        "#Select activation(hidden layers)\n",
        "activation_sigmoid = activation_functions[\"sigmoid\"]\n",
        "activation_softmax = activation_functions[\"softmax\"]\n",
        "activation_tanh = activation_functions[\"tanh\"]\n",
        "activation_relu = activation_functions[\"ReLU\"]\n",
        "\n",
        "#Select activation(output layer)\n",
        "output_activation_softmax = activation_functions[\"softmax\"]\n",
        "\n",
        "#x_train = x_train.astype('float128')\n",
        "model = FeedForwardNeuralNetwork(layers, optimizer_sgd, loss_squared, activation_tanh, output_activation_softmax, 5, 512, initialization = \"Xavier-Normal\")\n",
        "model.fit(x_train, y_train, x_val, y_val)\n"
      ]
    },
    {
      "cell_type": "code",
      "execution_count": null,
      "metadata": {
        "colab": {
          "base_uri": "https://localhost:8080/"
        },
        "id": "RZxGK9l2Fl8n",
        "outputId": "013c7b66-0ada-420c-a705-88993242dd6a"
      },
      "outputs": [
        {
          "output_type": "stream",
          "name": "stdout",
          "text": [
            "0.6503\n"
          ]
        }
      ],
      "source": [
        "#Accuracy for test data\n",
        "y_preds = model.predict(x_test)\n",
        "print(accuracy(np.argmax(y_test,1), np.argmax(y_preds,1)))"
      ]
    },
    {
      "cell_type": "markdown",
      "metadata": {
        "id": "7zRqa_TI36hc"
      },
      "source": [
        "\n",
        "Ref : https://pyimagesearch.com/2021/05/06/understanding-weight-initialization-for-neural-networks/\n",
        "\n",
        "For Sigmoid/Tanh --> Use Xavier\n",
        "\n",
        "Xavier Normal: For the normal distribution the limit value is constructed by averaging the Fin and Fout together and then taking the square-root (Jones, 2016). A zero-center (µ = 0) is then used:\n",
        "\n",
        "Xavier Uniform: \n",
        "\n",
        "For Relu ---> Use He"
      ]
    },
    {
      "cell_type": "markdown",
      "source": [
        "##DEFAULT PARAMETERS:\n",
        "\n",
        "GD : Learning_rate : 0.01\n",
        "\n",
        "Momentum : Learning_rate : 0.001, gamma=0.9  (tune gamma with increments of 0.3)\n",
        "\n",
        "NAG: Learning_rate : 0.001, gamma=0.9\n"
      ],
      "metadata": {
        "id": "ZJOHyB2ZOySf"
      }
    },
    {
      "cell_type": "code",
      "execution_count": null,
      "metadata": {
        "id": "zrwLXqvEei4V"
      },
      "outputs": [],
      "source": [
        "sweep_config = {\n",
        "    #GridSearch over the hyperparameters\n",
        "    'method': 'grid',\n",
        "    'metric': {\n",
        "      'name': 'accuracy',\n",
        "      'goal': 'maximize'   \n",
        "    },\n",
        "    'parameters': {\n",
        "        'epochs': {\n",
        "            'values': [5,10, 15]\n",
        "        },\n",
        "        'learning_rate': {\n",
        "            'values': [0.01, 0.001, 0.0001]\n",
        "        },\n",
        "        'weight_decay': {\n",
        "            'values': [0.0, 0.0005, 0.5]\n",
        "        },\n",
        "        'gamma': {\n",
        "            'values': [0.3, 0.6, 0.9]\n",
        "        },\n",
        "        'optimizer': {\n",
        "            'values': ['sgd', 'momentum', 'nag', 'rmsprop', 'adam', 'nadam']\n",
        "        },\n",
        "        'activation': {\n",
        "            'values': ['sigmoid' , 'tanh', 'relu']\n",
        "        },\n",
        "        #'output_activation': {\n",
        "        #    'values': ['softmax']\n",
        "        #},\n",
        "        'hidden_layers': {\n",
        "            'values': [ [32,64],[32,64,128],[32,64,128,256]]\n",
        "        },\n",
        "        'batch_size':{\n",
        "            'values':[16,32,64, 256, 512]\n",
        "        }\n",
        "    }\n",
        "}"
      ]
    },
    {
      "cell_type": "code",
      "execution_count": null,
      "metadata": {
        "colab": {
          "base_uri": "https://localhost:8080/"
        },
        "id": "RtB8ltado6MK",
        "outputId": "db249dfa-687d-4667-9dee-ff3228315beb"
      },
      "outputs": [
        {
          "output_type": "stream",
          "name": "stdout",
          "text": [
            "Create sweep with ID: bvwjknwo\n",
            "Sweep URL: https://wandb.ai/hegdesiddesh/Assignment_1/sweeps/bvwjknwo\n"
          ]
        }
      ],
      "source": [
        "sweep_id = wandb.sweep(sweep_config, project=\"Assignment_1\")"
      ]
    },
    {
      "cell_type": "code",
      "execution_count": null,
      "metadata": {
        "id": "8M5o2w4SpHxf"
      },
      "outputs": [],
      "source": [
        "def train():\n",
        "\n",
        "    config_defaults = {\n",
        "        'epochs': 2,\n",
        "        'learning_rate': 0.0001,\n",
        "        'hidden_layers':[50,75],\n",
        "        'optimizer':'nadam',\n",
        "        'activation':'sigmoid',\n",
        "        'gamma' : 0.6,\n",
        "        'weight_decay' : 0.5,\n",
        "        #'output_activation': 'softmax',\n",
        "        'batch_size':100\n",
        "    }\n",
        "\n",
        "    '''\n",
        "    # Initialize a new wandb run\n",
        "    wandb.init(project='Assignment_1',config=config_defaults, name=\"Question_345\")\n",
        "    config = wandb.init().config\n",
        "    '''\n",
        "    \n",
        "    with wandb.init(project='Assignment_1',config = sweep_config, name=\"Question_345\"):\n",
        "      config = wandb.init().config\n",
        "\n",
        "      #Setting custom run name \n",
        "      wandb.run.name = 'epochs_' + str(config.epochs) + '_activation_' + config.activation + '_optimizer_' + config.optimizer + '_layers' + str(len(config.hidden_layers)) + 'gamma_' + str(config.gamma) + '_learning_rate_' + str(config.learning_rate) + '_batch_size_' + str(config.batch_size)\n",
        "      \n",
        "      # Config is a variable that holds and saves hyperparameters and inputs\n",
        "      learning_rate = config.learning_rate\n",
        "      weight_decay = config.weight_decay\n",
        "      gamma = config.gamma\n",
        "      epochs = config.epochs\n",
        "      hidden_layers = config.hidden_layers\n",
        "\n",
        "      if config.activation==\"sigmoid\":\n",
        "        activation = activation_sigmoid\n",
        "      \n",
        "      if config.activation==\"tanh\":\n",
        "        activation = activation_tanh\n",
        "\n",
        "      if config.activation==\"relu\":\n",
        "        activation = activation_relu\n",
        "      #activation = config.activation\n",
        "\n",
        "      #if config.output_activation==\"softmax\":\n",
        "      #  output_activation = output_activation_softmax\n",
        "      #output_activation = config.output_activation\n",
        "      output_activation = output_activation_softmax\n",
        "\n",
        "      if config.optimizer==\"sgd\":\n",
        "        #Select optimizer(sgd)\n",
        "        optimizer = optimizers[\"gradient_descent\"]\n",
        "        optimizer_parameters_sgd = {\"learning_rate\":config.learning_rate, \"weight_decay\":weight_decay}\n",
        "        optimizer.set_initial_parameters(optimizer_parameters_sgd)\n",
        "        #optimizer = optimizer_sgd\n",
        "      if config.optimizer==\"momentum\":\n",
        "        #Select optimizer(momentum)\n",
        "        optimizer = optimizers[\"momentum_gd\"]\n",
        "        optimizer_parameters_momentum = {\"learning_rate\":config.learning_rate, \"gamma\":config.gamma, \"weight_decay\":weight_decay}\n",
        "        optimizer.set_initial_parameters(optimizer_parameters_momentum)\n",
        "        #optimizer = optimizer_momentum\n",
        "      if config.optimizer==\"nag\":\n",
        "        #Select optimizer(momentum)\n",
        "        optimizer = optimizers[\"nag\"]\n",
        "        optimizer_parameters_nag = {\"learning_rate\":config.learning_rate, \"gamma\":config.gamma}\n",
        "        optimizer.set_initial_parameters(optimizer_parameters_nag)\n",
        "        #optimizer = optimizer_nag\n",
        "      if config.optimizer==\"rmsprop\":\n",
        "        #Select optimizer(rmsprop)\n",
        "        optimizer = optimizers[\"rmsprop\"]\n",
        "        optimizer_parameters_rmsprop = {\"learning_rate\":config.learning_rate, \"gamma\":config.gamma, \"epsilon\":1e-8, \"weight_decay\":weight_decay}\n",
        "        optimizer.set_initial_parameters(optimizer_parameters_rmsprop)\n",
        "        #optimizer = optimizer_rmsprop\n",
        "      if config.optimizer==\"adam\":\n",
        "        #Select optimizer(adam)\n",
        "        optimizer = optimizers[\"adam\"]\n",
        "        optimizer_parameters_adam = {\"learning_rate\":config.learning_rate, \"beta1\":0.09, \"beta2\":0.999, \"epsilon\":1e-8, \"weight_decay\":weight_decay}\n",
        "        optimizer.set_initial_parameters(optimizer_parameters_adam)\n",
        "        #optimizer = optimizer_adam\n",
        "      if config.optimizer==\"nadam\":\n",
        "        #Select optimizer(nadam)\n",
        "        optimizer = optimizers[\"nadam\"]\n",
        "        optimizer_parameters_nadam = {\"learning_rate\":config.learning_rate, \"beta1\":0.09, \"beta2\":0.999, \"epsilon\":1e-8, \"weight_decay\":weight_decay}\n",
        "        optimizer.set_initial_parameters(optimizer_parameters_nadam)\n",
        "        #optimizer = optimizer_nadam\n",
        "      #optimizer = config.optimizer\n",
        "      batch_size = config.batch_size\n",
        "\n",
        "      #Model training \n",
        "      #Ensure that log=1 parameter is set for logging onto wandb\n",
        "      model = FeedForwardNeuralNetwork(hidden_layers, optimizer, loss_cross_entropy, activation, output_activation, epochs, batch_size, initialization = \"Xavier-Normal\", log=1)\n",
        "      train_loss, val_loss, train_accuracy, val_accuracy = model.fit(x_train, y_train, x_val, y_val)\n",
        "      del model\n",
        "\n",
        "      #Log validation accuracy for this run\n",
        "      wandb.log({\"accuracy\": val_accuracy})\n",
        "\n"
      ]
    },
    {
      "cell_type": "code",
      "execution_count": null,
      "metadata": {
        "id": "aZ-1SRN70-cq"
      },
      "outputs": [],
      "source": [
        "wandb.agent(sweep_id, train)"
      ]
    },
    {
      "cell_type": "code",
      "source": [
        ""
      ],
      "metadata": {
        "id": "WNcILMx_lt69"
      },
      "execution_count": null,
      "outputs": []
    },
    {
      "cell_type": "markdown",
      "metadata": {
        "id": "9WAzF_2QrtRZ"
      },
      "source": [
        "##Question 7: Best model\n",
        "\n",
        "Fine tune to use a variant of Epoch:14, activation:tanh, optimizer:adam, layers : [32,64,128], weight_decay:0.0005, gamma:0.6, learning_rate:0.001, batch_size:64"
      ]
    },
    {
      "cell_type": "code",
      "execution_count": null,
      "metadata": {
        "colab": {
          "base_uri": "https://localhost:8080/"
        },
        "id": "6yX6rcHyuoxE",
        "outputId": "5353a971-3972-4ad5-b108-a4702f22e39d"
      },
      "outputs": [
        {
          "output_type": "stream",
          "name": "stdout",
          "text": [
            "Epoch:  1  Training Loss:  0.5906556086153221  Validation Loss: 0.45769211254103775  Training Accuracy:  0.7897037037037037  Validation Accuracy: 0.8263333333333334\n",
            "Epoch:  2  Training Loss:  0.4189810735972017  Validation Loss: 0.40195854797093306  Training Accuracy:  0.847925925925926  Validation Accuracy: 0.8476666666666667\n",
            "Epoch:  3  Training Loss:  0.3808704571518979  Validation Loss: 0.38035096344251657  Training Accuracy:  0.8622037037037037  Validation Accuracy: 0.8601666666666666\n",
            "Epoch:  4  Training Loss:  0.35698552320487015  Validation Loss: 0.36359364526627524  Training Accuracy:  0.8708703703703704  Validation Accuracy: 0.868\n",
            "Epoch:  5  Training Loss:  0.33913932867720065  Validation Loss: 0.35180295767897  Training Accuracy:  0.8773703703703704  Validation Accuracy: 0.8711666666666666\n",
            "Epoch:  6  Training Loss:  0.3247543739892887  Validation Loss: 0.3434713700468033  Training Accuracy:  0.8824444444444445  Validation Accuracy: 0.8746666666666667\n",
            "Epoch:  7  Training Loss:  0.3125662994945275  Validation Loss: 0.3383895464376242  Training Accuracy:  0.8856666666666667  Validation Accuracy: 0.8771666666666667\n",
            "Epoch:  8  Training Loss:  0.30190754285933974  Validation Loss: 0.3362234188696547  Training Accuracy:  0.889462962962963  Validation Accuracy: 0.8771666666666667\n",
            "Epoch:  9  Training Loss:  0.29235301943957576  Validation Loss: 0.3342214195615146  Training Accuracy:  0.8929814814814815  Validation Accuracy: 0.8785\n",
            "Epoch:  10  Training Loss:  0.2837988249114348  Validation Loss: 0.329769689814356  Training Accuracy:  0.896537037037037  Validation Accuracy: 0.881\n",
            "Epoch:  11  Training Loss:  0.27594984103922077  Validation Loss: 0.3256156265862958  Training Accuracy:  0.898962962962963  Validation Accuracy: 0.8815\n",
            "Epoch:  12  Training Loss:  0.2686499165022673  Validation Loss: 0.3240554119074533  Training Accuracy:  0.9017962962962963  Validation Accuracy: 0.8828333333333334\n",
            "Epoch:  13  Training Loss:  0.2618988858101572  Validation Loss: 0.32435480838499076  Training Accuracy:  0.9038888888888889  Validation Accuracy: 0.883\n",
            "Epoch:  14  Training Loss:  0.2555838615868153  Validation Loss: 0.3254880105046422  Training Accuracy:  0.906537037037037  Validation Accuracy: 0.8828333333333334\n",
            "Epoch:  15  Training Loss:  0.2495761908604761  Validation Loss: 0.3268266090997879  Training Accuracy:  0.9082037037037037  Validation Accuracy: 0.884\n"
          ]
        },
        {
          "output_type": "execute_result",
          "data": {
            "text/plain": [
              "(0.2495761908604761, 0.3268266090997879, 0.9082037037037037, 0.884)"
            ]
          },
          "metadata": {},
          "execution_count": 28
        }
      ],
      "source": [
        "#Add layer sizes for the hidden layers\n",
        "layers = [32, 64, 128]\n",
        "\n",
        "\n",
        "optimizers = {\"gradient_descent\":GD(), \"momentum_gd\":MomentumGD(), \"nag\":NAG(), \"rmsprop\":RMSProp(), \"adam\":Adam(), \"nadam\":Nadam()}\n",
        "loss_functions = {\"cross_entropy\":CrossEntropy(), \"squared_loss\":SquaredErrorLoss()}\n",
        "activation_functions = {\"sigmoid\": Sigmoid(), \"softmax\":Softmax(), \"tanh\": Tanh(), \"relu\":ReLU()}\n",
        "\n",
        "'''\n",
        "#Select optimizer(sgd)\n",
        "optimizer_sgd = optimizers[\"gradient_descent\"]\n",
        "optimizer_parameters_sgd = {\"learning_rate\":0.001, \"weight_decay\":0.0}\n",
        "optimizer_sgd.set_initial_parameters(optimizer_parameters_sgd)\n",
        "\n",
        "#Select optimizer(momentum)\n",
        "optimizer_momentum = optimizers[\"momentum_gd\"]\n",
        "optimizer_parameters_momentum = {\"learning_rate\":0.001, \"gamma\":0.9, \"weight_decay\":0}\n",
        "#optimizer_parameters_momentum = {\"learning_rate\":0.01, \"gamma\":0.9}\n",
        "\n",
        "optimizer_momentum.set_initial_parameters(optimizer_parameters_momentum)\n",
        "\n",
        "#Select optimizer(nag)\n",
        "optimizer_nag = optimizers[\"nag\"]\n",
        "optimizer_parameters_nag = {\"learning_rate\":0.001, \"gamma\":0.9}\n",
        "optimizer_nag.set_initial_parameters(optimizer_parameters_nag)\n",
        "\n",
        "#Select optimizer(rmsprop)\n",
        "optimizer_rmsprop = optimizers[\"rmsprop\"]\n",
        "optimizer_parameters_rmsprop = {\"learning_rate\":0.01, \"gamma\":0.9, \"epsilon\":1e-8, \"weight_decay\":0.5}\n",
        "optimizer_rmsprop.set_initial_parameters(optimizer_parameters_rmsprop)\n",
        "'''\n",
        "\n",
        "#Select optimizer(adam)\n",
        "optimizer_adam = optimizers[\"adam\"]\n",
        "optimizer_parameters_adam = {\"learning_rate\":0.001, \"beta1\":0.09, \"beta2\":0.999, \"epsilon\":1e-8, \"weight_decay\":0.0005}\n",
        "optimizer_adam.set_initial_parameters(optimizer_parameters_adam)\n",
        "\n",
        "'''\n",
        "#Select optimizer(nadam)\n",
        "optimizer_nadam = optimizers[\"nadam\"]\n",
        "optimizer_parameters_nadam = {\"learning_rate\":0.0005, \"beta1\":0.09, \"beta2\":0.999, \"epsilon\":1e-8, \"weight_decay\":0}\n",
        "optimizer_nadam.set_initial_parameters(optimizer_parameters_nadam)\n",
        "'''\n",
        "\n",
        "#Select loss function\n",
        "loss_cross_entropy = loss_functions[\"cross_entropy\"]\n",
        "loss_squared = loss_functions[\"squared_loss\"]\n",
        "\n",
        "#Select activation(hidden layers)\n",
        "#activation_sigmoid = activation_functions[\"sigmoid\"]\n",
        "#activation_softmax = activation_functions[\"softmax\"]\n",
        "activation_tanh = activation_functions[\"tanh\"]\n",
        "#activation_relu = activation_functions[\"relu\"]\n",
        "\n",
        "#Select activation(output layer)\n",
        "output_activation_softmax = activation_functions[\"softmax\"]\n",
        "\n",
        "model = FeedForwardNeuralNetwork(layers, optimizer_adam, loss_cross_entropy, activation_tanh, output_activation_softmax, 15, 128, initialization = \"Xavier-Normal\")\n",
        "model.fit(x_train, y_train, x_val, y_val)\n"
      ]
    },
    {
      "cell_type": "code",
      "execution_count": null,
      "metadata": {
        "colab": {
          "base_uri": "https://localhost:8080/"
        },
        "id": "541jNd5SuoxF",
        "outputId": "a2021de1-ff94-494d-dba9-e7608e762b68"
      },
      "outputs": [
        {
          "output_type": "stream",
          "name": "stdout",
          "text": [
            "0.8756\n"
          ]
        }
      ],
      "source": [
        "#Accuracy for test data\n",
        "y_pred = model.predict(x_test)\n",
        "print(accuracy(np.argmax(y_test,1), np.argmax(y_pred,1)))"
      ]
    },
    {
      "cell_type": "code",
      "execution_count": null,
      "metadata": {
        "id": "SXt9R7uM3uOw",
        "colab": {
          "base_uri": "https://localhost:8080/",
          "height": 751,
          "referenced_widgets": [
            "5a2592bfdcfd49eabda73dfaa185c8d6",
            "9c5c80fc9fb44def8f190fcbffec01cd",
            "74d432af34624fcca07eb8caa20a01fd",
            "11ba1bf9d3b946f6bbb1cc3a90681c71",
            "07ae21ad94204dbd932b202f4c1c03fd",
            "5af6bc6d978b4e07a24e6c700d192690",
            "7ce181e7908644d3969de88839533267",
            "cc59d90f58b3473ab984a5e40bf5e0f3"
          ]
        },
        "outputId": "f307facf-b3e6-4a52-8ef4-e00ab670150f"
      },
      "outputs": [
        {
          "output_type": "display_data",
          "data": {
            "text/html": [
              "\n",
              "                    Syncing run <strong><a href=\"https://wandb.ai/hegdesiddesh/Assignment_1/runs/1vgbqdos\" target=\"_blank\">Question_7</a></strong> to <a href=\"https://wandb.ai/hegdesiddesh/Assignment_1\" target=\"_blank\">Weights & Biases</a> (<a href=\"https://docs.wandb.com/integrations/jupyter.html\" target=\"_blank\">docs</a>).<br/>\n",
              "\n",
              "                "
            ],
            "text/plain": [
              "<IPython.core.display.HTML object>"
            ]
          },
          "metadata": {}
        },
        {
          "output_type": "display_data",
          "data": {
            "image/png": "[encoded data removed]",
            "text/plain": [
              "<Figure size 720x720 with 2 Axes>"
            ]
          },
          "metadata": {
            "needs_background": "light"
          }
        },
        {
          "output_type": "display_data",
          "data": {
            "text/html": [
              "<br/>Waiting for W&B process to finish, PID 2845... <strong style=\"color:green\">(success).</strong>"
            ],
            "text/plain": [
              "<IPython.core.display.HTML object>"
            ]
          },
          "metadata": {}
        },
        {
          "output_type": "display_data",
          "data": {
            "application/vnd.jupyter.widget-view+json": {
              "model_id": "5a2592bfdcfd49eabda73dfaa185c8d6",
              "version_minor": 0,
              "version_major": 2
            },
            "text/plain": [
              "VBox(children=(Label(value=' 0.05MB of 0.05MB uploaded (0.00MB deduped)\\r'), FloatProgress(value=1.0, max=1.0)…"
            ]
          },
          "metadata": {}
        },
        {
          "output_type": "display_data",
          "data": {
            "text/html": [
              "<style>\n",
              "    table.wandb td:nth-child(1) { padding: 0 10px; text-align: right }\n",
              "    .wandb-row { display: flex; flex-direction: row; flex-wrap: wrap; width: 100% }\n",
              "    .wandb-col { display: flex; flex-direction: column; flex-basis: 100%; flex: 1; padding: 10px; }\n",
              "    </style>\n",
              "<div class=\"wandb-row\"><div class=\"wandb-col\">\n",
              "</div><div class=\"wandb-col\">\n",
              "</div></div>\n",
              "Synced 4 W&B file(s), 1 media file(s), 0 artifact file(s) and 0 other file(s)\n",
              "<br/>Synced <strong style=\"color:#cdcd00\">Question_7</strong>: <a href=\"https://wandb.ai/hegdesiddesh/Assignment_1/runs/1vgbqdos\" target=\"_blank\">https://wandb.ai/hegdesiddesh/Assignment_1/runs/1vgbqdos</a><br/>\n",
              "Find logs at: <code>./wandb/run-20220223_173601-1vgbqdos/logs</code><br/>\n"
            ],
            "text/plain": [
              "<IPython.core.display.HTML object>"
            ]
          },
          "metadata": {}
        }
      ],
      "source": [
        "from sklearn import metrics\n",
        "import matplotlib.pyplot as plt\n",
        "import seaborn as sns\n",
        "import pandas as pd\n",
        "\n",
        "wandb.init(project=\"Assignment_1\", name=\"Question_7\")\n",
        "\n",
        "#labels = [\"T-shirt/top\", \"Trouser\", \"Pullover\", \"Dress\", \"Coat\", \"Sandal\", \"Shirt\", \"Sneaker\", \"Bag\", \"Ankle boot\"]\n",
        "\n",
        "conf_matrix=metrics.confusion_matrix(np.argmax(y_test,1), np.argmax(y_pred,1))\n",
        "df_conf_matrix = pd.DataFrame(conf_matrix, index=[i for i in labels], columns=[i for i in labels])\n",
        "\n",
        "plt.figure(figsize=(10, 10))\n",
        "ax = sns.heatmap(df_conf_matrix, annot=True,  cmap='Blues', fmt='d',linewidths=3, linecolor='black')\n",
        "ax.set_yticklabels(labels,rotation=0)\n",
        "plt.xlabel(\"True Class\")  \n",
        "plt.ylabel(\"Predicted Class\")\n",
        "plt.title('Confusion Matrix of best model on FASHION-MNIST Dataset', fontsize=20)\n",
        "\n",
        "wandb.log({\"Confusion_matrix\": wandb.Image(plt)})\n",
        "\n",
        "plt.show()\n",
        "\n",
        "wandb.finish()"
      ]
    },
    {
      "cell_type": "markdown",
      "source": [
        "##Question 8: Squared loss v/s Cross entropy loss\n",
        "\n",
        "1. Obtain the list with validation losses and validation accuracy per epoch for validation set\n",
        "2. Plot this as a comparison between the losses per epoch and accuracy per epoch for squared loss and cross entropy loss"
      ],
      "metadata": {
        "id": "Xa9JfDLpCPfM"
      }
    },
    {
      "cell_type": "code",
      "source": [
        "#Add layer sizes for the hidden layers\n",
        "layers = [32, 64, 128]\n",
        "\n",
        "\n",
        "optimizers = {\"gradient_descent\":GD(), \"momentum_gd\":MomentumGD(), \"nag\":NAG(), \"rmsprop\":RMSProp(), \"adam\":Adam(), \"nadam\":Nadam()}\n",
        "loss_functions = {\"cross_entropy\":CrossEntropy(), \"squared_loss\":SquaredErrorLoss()}\n",
        "activation_functions = {\"sigmoid\": Sigmoid(), \"softmax\":Softmax(), \"tanh\": Tanh(), \"relu\":ReLU()}\n",
        "\n",
        "'''\n",
        "#Select optimizer(sgd)\n",
        "optimizer_sgd = optimizers[\"gradient_descent\"]\n",
        "optimizer_parameters_sgd = {\"learning_rate\":0.001, \"weight_decay\":0.0}\n",
        "optimizer_sgd.set_initial_parameters(optimizer_parameters_sgd)\n",
        "\n",
        "#Select optimizer(momentum)\n",
        "optimizer_momentum = optimizers[\"momentum_gd\"]\n",
        "optimizer_parameters_momentum = {\"learning_rate\":0.001, \"gamma\":0.9, \"weight_decay\":0}\n",
        "#optimizer_parameters_momentum = {\"learning_rate\":0.01, \"gamma\":0.9}\n",
        "\n",
        "optimizer_momentum.set_initial_parameters(optimizer_parameters_momentum)\n",
        "\n",
        "#Select optimizer(nag)\n",
        "optimizer_nag = optimizers[\"nag\"]\n",
        "optimizer_parameters_nag = {\"learning_rate\":0.001, \"gamma\":0.9}\n",
        "optimizer_nag.set_initial_parameters(optimizer_parameters_nag)\n",
        "\n",
        "#Select optimizer(rmsprop)\n",
        "optimizer_rmsprop = optimizers[\"rmsprop\"]\n",
        "optimizer_parameters_rmsprop = {\"learning_rate\":0.01, \"gamma\":0.9, \"epsilon\":1e-8, \"weight_decay\":0.5}\n",
        "optimizer_rmsprop.set_initial_parameters(optimizer_parameters_rmsprop)\n",
        "'''\n",
        "\n",
        "#Select optimizer(adam)\n",
        "optimizer_adam = optimizers[\"adam\"]\n",
        "optimizer_parameters_adam = {\"learning_rate\":0.001, \"beta1\":0.09, \"beta2\":0.999, \"epsilon\":1e-8, \"weight_decay\":0.0005}\n",
        "optimizer_adam.set_initial_parameters(optimizer_parameters_adam)\n",
        "\n",
        "'''\n",
        "#Select optimizer(nadam)\n",
        "optimizer_nadam = optimizers[\"nadam\"]\n",
        "optimizer_parameters_nadam = {\"learning_rate\":0.0005, \"beta1\":0.09, \"beta2\":0.999, \"epsilon\":1e-8, \"weight_decay\":0}\n",
        "optimizer_nadam.set_initial_parameters(optimizer_parameters_nadam)\n",
        "'''\n",
        "\n",
        "#Select loss function\n",
        "loss_cross_entropy = loss_functions[\"cross_entropy\"]\n",
        "loss_squared = loss_functions[\"squared_loss\"]\n",
        "\n",
        "#Select activation(hidden layers)\n",
        "#activation_sigmoid = activation_functions[\"sigmoid\"]\n",
        "#activation_softmax = activation_functions[\"softmax\"]\n",
        "activation_tanh = activation_functions[\"tanh\"]\n",
        "#activation_relu = activation_functions[\"relu\"]\n",
        "\n",
        "#Select activation(output layer)\n",
        "output_activation_softmax = activation_functions[\"softmax\"]\n",
        "\n",
        "\n",
        "#wandb.init(project=\"Assignment_1\", name=\"Question_8\")\n",
        "\n",
        "train_losses_crossentropy = []\n",
        "train_accuracy_crossentropy = []\n",
        "val_losses_crossentropy = []\n",
        "val_accuracy_crossentropy = []\n",
        "\n",
        "train_losses_squareloss = []\n",
        "train_accuracy_squareloss = []\n",
        "val_losses_squareloss = []\n",
        "val_accuracy_squareloss = []\n",
        "\n",
        "model_crossEnt = FeedForwardNeuralNetwork(layers, optimizer_adam, loss_cross_entropy, activation_tanh, output_activation_softmax, 15, 128, initialization = \"Xavier-Normal\", train_losses_list = train_losses_crossentropy, train_accuracy_list = train_accuracy_crossentropy, val_losses_list = val_losses_crossentropy, val_accuracy_list = val_accuracy_crossentropy)\n",
        "model_squared = FeedForwardNeuralNetwork(layers, optimizer_adam, loss_squared, activation_tanh, output_activation_softmax, 15, 128, initialization = \"Xavier-Normal\", train_losses_list = train_losses_squareloss, train_accuracy_list = train_accuracy_squareloss, val_losses_list = val_losses_squareloss, val_accuracy_list = val_accuracy_squareloss)\n",
        "\n",
        "model_crossEnt.fit(x_train, y_train, x_val, y_val)\n",
        "model_squared.fit(x_train, y_train, x_val, y_val)\n",
        "\n"
      ],
      "metadata": {
        "id": "Fm-7ns7qCVgJ"
      },
      "execution_count": null,
      "outputs": []
    },
    {
      "cell_type": "code",
      "source": [
        "wandb.init(project=\"Assignment_1\", name=\"Question_8\")\n",
        "\n",
        "epochs = list(range(1, len(train_losses_squareloss)+1))\n",
        "\n",
        "plt.figure(figsize=(10, 7))\n",
        "plt.plot(epochs, train_losses_crossentropy, 'r', label ='Cross Entropy')\n",
        "plt.plot(epochs, train_losses_squareloss, 'b', label ='Squared Loss') \n",
        "plt.legend()\n",
        "plt.xlabel(\"Epochs\")  \n",
        "plt.ylabel(\"Train Loss per epoch\")\n",
        "plt.title('Train Loss comparison for Squared Loss and Crossentropy Loss', fontsize=20)\n",
        "wandb.log({\"Train Loss per epoch for Squared v/s CrossEntropy Loss \": wandb.Image(plt)})\n",
        "plt.show()\n",
        "\n",
        "\n",
        "\n",
        "plt.figure(figsize=(10, 7))\n",
        "plt.plot(epochs, train_accuracy_crossentropy, 'r', label ='Cross Entropy')\n",
        "plt.plot(epochs, train_accuracy_squareloss, 'b', label ='Squared Loss') \n",
        "plt.legend()\n",
        "plt.xlabel(\"Epochs\")  \n",
        "plt.ylabel(\"Train accuracy per epoch\")\n",
        "plt.title('Train accuracy comparison for Squared Loss and Crossentropy Loss', fontsize=20)\n",
        "wandb.log({\"Train accuracy per epoch for Squared v/s CrossEntropy Loss \": wandb.Image(plt)})\n",
        "plt.show()\n",
        "\n",
        "\n",
        "\n",
        "plt.figure(figsize=(10, 7))\n",
        "plt.plot(epochs, val_losses_crossentropy, 'r', label ='Cross Entropy')\n",
        "plt.plot(epochs, val_losses_squareloss, 'b', label ='Squared Loss') \n",
        "plt.legend()\n",
        "plt.xlabel(\"Epochs\")  \n",
        "plt.ylabel(\"Validation Loss per epoch\")\n",
        "plt.title('Validation Loss comparison for Squared Loss and Crossentropy Loss', fontsize=20)\n",
        "wandb.log({\"Validation Loss per epoch for Squared v/s CrossEntropy Loss \": wandb.Image(plt)})\n",
        "plt.show()\n",
        "\n",
        "\n",
        "\n",
        "plt.figure(figsize=(10, 7))\n",
        "plt.plot(epochs, val_accuracy_crossentropy, 'r', label ='Cross Entropy')\n",
        "plt.plot(epochs, val_accuracy_squareloss, 'b', label ='Squared Loss') \n",
        "plt.legend()\n",
        "plt.xlabel(\"Epochs\")  \n",
        "plt.ylabel(\"Validation accuracy per epoch \")\n",
        "plt.title('Validation accuracy comparison for Squared Loss and Crossentropy Loss', fontsize=20)\n",
        "wandb.log({\"Validation accuracy per epoch for Squared v/s CrossEntropy Loss \": wandb.Image(plt)})\n",
        "plt.show()\n",
        "\n",
        "\n",
        "\n",
        "wandb.finish()"
      ],
      "metadata": {
        "colab": {
          "base_uri": "https://localhost:8080/",
          "height": 1000,
          "referenced_widgets": [
            "c48968053f2a4737ba6f284d16c20be6",
            "a82080971f25497da96225bf2e4427da",
            "fb3770e299c04c6f91ac598d4228bd2e",
            "a903d95b3cc5437c90bf3af9e0ac474a",
            "79c244235823482282f9c1eb158d47d8",
            "0fc96698699f408db0095482b68f81a7",
            "806ed5aabe7140ebb81d5b1cac036ddd",
            "deb0d0dff485440f9800d240f8790406"
          ]
        },
        "id": "kyaw1YEa4UEn",
        "outputId": "2cceb7d4-d31a-428b-97cf-ce4aff395ca6"
      },
      "execution_count": null,
      "outputs": [
        {
          "output_type": "display_data",
          "data": {
            "text/html": [
              "\n",
              "                    Syncing run <strong><a href=\"https://wandb.ai/hegdesiddesh/Assignment_1/runs/3t8102d8\" target=\"_blank\">Question_8</a></strong> to <a href=\"https://wandb.ai/hegdesiddesh/Assignment_1\" target=\"_blank\">Weights & Biases</a> (<a href=\"https://docs.wandb.com/integrations/jupyter.html\" target=\"_blank\">docs</a>).<br/>\n",
              "\n",
              "                "
            ],
            "text/plain": [
              "<IPython.core.display.HTML object>"
            ]
          },
          "metadata": {}
        },
        {
          "output_type": "display_data",
          "data": {
            "image/png": "[encoded data removed]",
            "text/plain": [
              "<Figure size 720x504 with 1 Axes>"
            ]
          },
          "metadata": {
            "needs_background": "light"
          }
        },
        {
          "output_type": "display_data",
          "data": {
            "image/png": "[encoded data removed]",
            "text/plain": [
              "<Figure size 720x504 with 1 Axes>"
            ]
          },
          "metadata": {
            "needs_background": "light"
          }
        },
        {
          "output_type": "display_data",
          "data": {
            "image/png": "[encoded data removed]",
            "text/plain": [
              "<Figure size 720x504 with 1 Axes>"
            ]
          },
          "metadata": {
            "needs_background": "light"
          }
        },
        {
          "output_type": "display_data",
          "data": {
            "image/png": "[encoded data removed]",
            "text/plain": [
              "<Figure size 720x504 with 1 Axes>"
            ]
          },
          "metadata": {
            "needs_background": "light"
          }
        },
        {
          "output_type": "display_data",
          "data": {
            "text/html": [
              "<br/>Waiting for W&B process to finish, PID 3395... <strong style=\"color:green\">(success).</strong>"
            ],
            "text/plain": [
              "<IPython.core.display.HTML object>"
            ]
          },
          "metadata": {}
        },
        {
          "output_type": "display_data",
          "data": {
            "application/vnd.jupyter.widget-view+json": {
              "model_id": "c48968053f2a4737ba6f284d16c20be6",
              "version_minor": 0,
              "version_major": 2
            },
            "text/plain": [
              "VBox(children=(Label(value=' 0.12MB of 0.12MB uploaded (0.00MB deduped)\\r'), FloatProgress(value=1.0, max=1.0)…"
            ]
          },
          "metadata": {}
        },
        {
          "output_type": "display_data",
          "data": {
            "text/html": [
              "<style>\n",
              "    table.wandb td:nth-child(1) { padding: 0 10px; text-align: right }\n",
              "    .wandb-row { display: flex; flex-direction: row; flex-wrap: wrap; width: 100% }\n",
              "    .wandb-col { display: flex; flex-direction: column; flex-basis: 100%; flex: 1; padding: 10px; }\n",
              "    </style>\n",
              "<div class=\"wandb-row\"><div class=\"wandb-col\">\n",
              "</div><div class=\"wandb-col\">\n",
              "</div></div>\n",
              "Synced 4 W&B file(s), 4 media file(s), 0 artifact file(s) and 0 other file(s)\n",
              "<br/>Synced <strong style=\"color:#cdcd00\">Question_8</strong>: <a href=\"https://wandb.ai/hegdesiddesh/Assignment_1/runs/3t8102d8\" target=\"_blank\">https://wandb.ai/hegdesiddesh/Assignment_1/runs/3t8102d8</a><br/>\n",
              "Find logs at: <code>./wandb/run-20220223_185208-3t8102d8/logs</code><br/>\n"
            ],
            "text/plain": [
              "<IPython.core.display.HTML object>"
            ]
          },
          "metadata": {}
        }
      ]
    },
    {
      "cell_type": "code",
      "source": [
        ""
      ],
      "metadata": {
        "id": "brSggwJ2FiVW"
      },
      "execution_count": null,
      "outputs": []
    },
    {
      "cell_type": "markdown",
      "source": [
        "##Question 10: MNIST (Number) dataset classification using the top 3 hyperparameter sets from the models of Fashion MNIST"
      ],
      "metadata": {
        "id": "zyNyNuMUYCCr"
      }
    },
    {
      "cell_type": "code",
      "source": [
        "from keras.datasets import mnist\n",
        "\n",
        "(x_train_mnist_full, y_train_mnist_full), (x_test_mnist, y_test_mnist) = mnist.load_data()\n",
        "\n",
        "#Normalize the data\n",
        "x_train_mnist_full = x_train_mnist_full/255.0\n",
        "x_test_mnist = x_test_mnist/255.0\n",
        "\n",
        "#Splitting to get 10% data as validation set\n",
        "x_train_mnist, x_val_mnist, y_train_mnist, y_val_mnist = train_test_split(x_train_mnist_full, y_train_mnist_full, test_size=0.1, random_state=137)\n",
        "\n",
        "y_train_mnist_unencoded = y_train_mnist\n",
        "#One hot encoding of the class labels\n",
        "encoder = OneHotEncoder()\n",
        "y_train_mnist = encoder.fit_transform(np.expand_dims(y_train_mnist,1)).toarray()\n",
        "y_val_mnist = encoder.fit_transform(np.expand_dims(y_val_mnist,1)).toarray()\n",
        "y_test_mnist = encoder.fit_transform(np.expand_dims(y_test_mnist,1)).toarray()\n"
      ],
      "metadata": {
        "id": "yPmsdJjxYV17"
      },
      "execution_count": null,
      "outputs": []
    },
    {
      "cell_type": "code",
      "source": [
        "#MODEL 1: Epoch:15, activation:tanh, optimizer:adam, layers : [32,64,128], weight_decay:0.0005, gamma:0.6, learning_rate:0.001, batch_size:128\n",
        "\n",
        "#MODEL 2: Epoch:15, activation:tanh, optimizer:sgd, layers : [32,64,128, 256], weight_decay:0, gamma:0.6, learning_rate:0.001, batch_size:32\n",
        "\n",
        "#MODEL 3: Epoch:12, activation:tanh, optimizer:rmsprop, layers : [32,64,128], weight_decay:0, gamma:0.6, learning_rate:0.001, batch_size:32\n"
      ],
      "metadata": {
        "id": "K0xfM1EMk-J6"
      },
      "execution_count": null,
      "outputs": []
    },
    {
      "cell_type": "code",
      "source": [
        "#Add layer sizes for the hidden layers\n",
        "layers_3 = [32, 64, 128]\n",
        "layers_4 = [32, 64, 128, 256]\n",
        "\n",
        "optimizers = {\"gradient_descent\":GD(), \"momentum_gd\":MomentumGD(), \"nag\":NAG(), \"rmsprop\":RMSProp(), \"adam\":Adam(), \"nadam\":Nadam()}\n",
        "loss_functions = {\"cross_entropy\":CrossEntropy(), \"squared_loss\":SquaredErrorLoss()}\n",
        "activation_functions = {\"sigmoid\": Sigmoid(), \"softmax\":Softmax(), \"tanh\": Tanh(), \"relu\":ReLU()}\n",
        "\n",
        "'''\n",
        "\n",
        "\n",
        "#Select optimizer(momentum)\n",
        "optimizer_momentum = optimizers[\"momentum_gd\"]\n",
        "optimizer_parameters_momentum = {\"learning_rate\":0.001, \"gamma\":0.9, \"weight_decay\":0}\n",
        "#optimizer_parameters_momentum = {\"learning_rate\":0.01, \"gamma\":0.9}\n",
        "\n",
        "optimizer_momentum.set_initial_parameters(optimizer_parameters_momentum)\n",
        "\n",
        "#Select optimizer(nag)\n",
        "optimizer_nag = optimizers[\"nag\"]\n",
        "optimizer_parameters_nag = {\"learning_rate\":0.001, \"gamma\":0.9}\n",
        "optimizer_nag.set_initial_parameters(optimizer_parameters_nag)\n",
        "\n",
        "\n",
        "'''\n",
        "#Select optimizer(sgd)\n",
        "optimizer_sgd = optimizers[\"gradient_descent\"]\n",
        "optimizer_parameters_sgd = {\"learning_rate\":0.001, \"weight_decay\":0.0}\n",
        "optimizer_sgd.set_initial_parameters(optimizer_parameters_sgd)\n",
        "\n",
        "#Select optimizer(adam)\n",
        "optimizer_adam = optimizers[\"adam\"]\n",
        "optimizer_parameters_adam = {\"learning_rate\":0.001, \"beta1\":0.09, \"beta2\":0.999, \"epsilon\":1e-8, \"weight_decay\":0.0005}\n",
        "optimizer_adam.set_initial_parameters(optimizer_parameters_adam)\n",
        "\n",
        "#Select optimizer(rmsprop)\n",
        "optimizer_rmsprop = optimizers[\"rmsprop\"]\n",
        "optimizer_parameters_rmsprop = {\"learning_rate\":0.001, \"gamma\":0.6, \"epsilon\":1e-8, \"weight_decay\":0.0}\n",
        "optimizer_rmsprop.set_initial_parameters(optimizer_parameters_rmsprop)\n",
        "\n",
        "'''\n",
        "#Select optimizer(nadam)\n",
        "optimizer_nadam = optimizers[\"nadam\"]\n",
        "optimizer_parameters_nadam = {\"learning_rate\":0.0005, \"beta1\":0.09, \"beta2\":0.999, \"epsilon\":1e-8, \"weight_decay\":0}\n",
        "optimizer_nadam.set_initial_parameters(optimizer_parameters_nadam)\n",
        "'''\n",
        "\n",
        "#Select loss function\n",
        "loss_cross_entropy = loss_functions[\"cross_entropy\"]\n",
        "loss_squared = loss_functions[\"squared_loss\"]\n",
        "\n",
        "#Select activation(hidden layers)\n",
        "#activation_sigmoid = activation_functions[\"sigmoid\"]\n",
        "#activation_softmax = activation_functions[\"softmax\"]\n",
        "activation_tanh = activation_functions[\"tanh\"]\n",
        "#activation_relu = activation_functions[\"relu\"]\n",
        "\n",
        "#Select activation(output layer)\n",
        "output_activation_softmax = activation_functions[\"softmax\"]\n",
        "\n",
        "\n",
        "\n"
      ],
      "metadata": {
        "id": "eNzW0YDrpL_9"
      },
      "execution_count": null,
      "outputs": []
    },
    {
      "cell_type": "code",
      "source": [
        "model_mnist_1 = FeedForwardNeuralNetwork(layers_3, optimizer_adam, loss_cross_entropy, activation_tanh, output_activation_softmax, 15, 128, initialization = \"Xavier-Normal\")\n",
        "model_mnist_1.fit(x_train_mnist, y_train_mnist, x_val_mnist, y_val_mnist)"
      ],
      "metadata": {
        "colab": {
          "base_uri": "https://localhost:8080/"
        },
        "id": "dfJuxcKq7fI8",
        "outputId": "7de5d020-efa9-4524-a579-d4954892018a"
      },
      "execution_count": null,
      "outputs": [
        {
          "output_type": "stream",
          "name": "stdout",
          "text": [
            "Epoch:  1  Training Loss:  0.41073149293086636  Validation Loss: 0.22866350520259324  Training Accuracy:  0.8837592592592592  Validation Accuracy: 0.9336666666666666\n",
            "Epoch:  2  Training Loss:  0.19884359980416677  Validation Loss: 0.16872381204267525  Training Accuracy:  0.940962962962963  Validation Accuracy: 0.9505\n",
            "Epoch:  3  Training Loss:  0.14965588726762935  Validation Loss: 0.14585005882389732  Training Accuracy:  0.9555185185185185  Validation Accuracy: 0.9566666666666667\n",
            "Epoch:  4  Training Loss:  0.12188738030480784  Validation Loss: 0.13561777810388953  Training Accuracy:  0.9635  Validation Accuracy: 0.9605\n",
            "Epoch:  5  Training Loss:  0.102772847344875  Validation Loss: 0.13076245401588585  Training Accuracy:  0.9685925925925926  Validation Accuracy: 0.9618333333333333\n",
            "Epoch:  6  Training Loss:  0.08830473422403737  Validation Loss: 0.12795487475558295  Training Accuracy:  0.9729814814814814  Validation Accuracy: 0.961\n",
            "Epoch:  7  Training Loss:  0.07667572477647194  Validation Loss: 0.12644801643819167  Training Accuracy:  0.9765  Validation Accuracy: 0.962\n",
            "Epoch:  8  Training Loss:  0.06704763733312963  Validation Loss: 0.12637089513391797  Training Accuracy:  0.9797777777777777  Validation Accuracy: 0.9626666666666667\n",
            "Epoch:  9  Training Loss:  0.05889953391397768  Validation Loss: 0.1275831716610827  Training Accuracy:  0.982925925925926  Validation Accuracy: 0.964\n",
            "Epoch:  10  Training Loss:  0.05171790261540176  Validation Loss: 0.13045044176506948  Training Accuracy:  0.9850925925925926  Validation Accuracy: 0.964\n",
            "Epoch:  11  Training Loss:  0.04530844861630075  Validation Loss: 0.13504249445746755  Training Accuracy:  0.9873148148148149  Validation Accuracy: 0.9645\n",
            "Epoch:  12  Training Loss:  0.0396137391619882  Validation Loss: 0.14253346025826247  Training Accuracy:  0.9892962962962963  Validation Accuracy: 0.964\n",
            "Epoch:  13  Training Loss:  0.034811944384153665  Validation Loss: 0.1488397090252411  Training Accuracy:  0.9907592592592592  Validation Accuracy: 0.9636666666666667\n",
            "Epoch:  14  Training Loss:  0.030458786544311743  Validation Loss: 0.15079201033277032  Training Accuracy:  0.9921481481481481  Validation Accuracy: 0.9646666666666667\n",
            "Epoch:  15  Training Loss:  0.02698002946049933  Validation Loss: 0.1541914689129405  Training Accuracy:  0.9931666666666666  Validation Accuracy: 0.9633333333333334\n"
          ]
        },
        {
          "output_type": "execute_result",
          "data": {
            "text/plain": [
              "(0.02698002946049933,\n",
              " 0.1541914689129405,\n",
              " 0.9931666666666666,\n",
              " 0.9633333333333334)"
            ]
          },
          "metadata": {},
          "execution_count": 25
        }
      ]
    },
    {
      "cell_type": "code",
      "source": [
        "model_mnist_2 = FeedForwardNeuralNetwork(layers_4, optimizer_sgd, loss_cross_entropy, activation_tanh, output_activation_softmax, 10, 32, initialization = \"Xavier-Normal\")\n",
        "model_mnist_2.fit(x_train_mnist, y_train_mnist, x_val_mnist, y_val_mnist)"
      ],
      "metadata": {
        "id": "pGGfi7vwrO3t",
        "colab": {
          "base_uri": "https://localhost:8080/"
        },
        "outputId": "79c1e905-0056-4f31-e5da-d9ee164ac33e"
      },
      "execution_count": null,
      "outputs": [
        {
          "output_type": "stream",
          "name": "stdout",
          "text": [
            "Epoch:  1  Training Loss:  0.4047825036687557  Validation Loss: 0.2363341750042909  Training Accuracy:  0.8832962962962962  Validation Accuracy: 0.9295\n",
            "Epoch:  2  Training Loss:  0.21450932676794235  Validation Loss: 0.17821919820261045  Training Accuracy:  0.9366111111111111  Validation Accuracy: 0.951\n",
            "Epoch:  3  Training Loss:  0.16396836343485885  Validation Loss: 0.15192198489784853  Training Accuracy:  0.9513148148148148  Validation Accuracy: 0.9585\n",
            "Epoch:  4  Training Loss:  0.13405215978408602  Validation Loss: 0.1384978450315099  Training Accuracy:  0.9598518518518518  Validation Accuracy: 0.9626666666666667\n",
            "Epoch:  5  Training Loss:  0.11419506317920394  Validation Loss: 0.13113202845418856  Training Accuracy:  0.9658888888888889  Validation Accuracy: 0.9653333333333334\n",
            "Epoch:  6  Training Loss:  0.09991556756453553  Validation Loss: 0.12683556940803298  Training Accuracy:  0.9702777777777778  Validation Accuracy: 0.9661666666666666\n",
            "Epoch:  7  Training Loss:  0.08899906866842926  Validation Loss: 0.1237032014951382  Training Accuracy:  0.9735925925925926  Validation Accuracy: 0.9665\n",
            "Epoch:  8  Training Loss:  0.08008907096566281  Validation Loss: 0.12157172184657389  Training Accuracy:  0.9762777777777778  Validation Accuracy: 0.9676666666666667\n",
            "Epoch:  9  Training Loss:  0.07244368938363546  Validation Loss: 0.12062784316550314  Training Accuracy:  0.9787407407407407  Validation Accuracy: 0.9678333333333333\n",
            "Epoch:  10  Training Loss:  0.06570523724393633  Validation Loss: 0.12096225777313425  Training Accuracy:  0.981  Validation Accuracy: 0.9691666666666666\n"
          ]
        },
        {
          "output_type": "execute_result",
          "data": {
            "text/plain": [
              "(0.06570523724393633, 0.12096225777313425, 0.981, 0.9691666666666666)"
            ]
          },
          "metadata": {},
          "execution_count": 16
        }
      ]
    },
    {
      "cell_type": "code",
      "source": [
        "model_mnist_3 = FeedForwardNeuralNetwork(layers_3, optimizer_rmsprop, loss_cross_entropy, activation_tanh, output_activation_softmax, 12, 32, initialization = \"Xavier-Normal\")\n",
        "model_mnist_3.fit(x_train_mnist, y_train_mnist, x_val_mnist, y_val_mnist)\n"
      ],
      "metadata": {
        "colab": {
          "base_uri": "https://localhost:8080/"
        },
        "id": "m_XNsuIVrPGb",
        "outputId": "285b986f-cf82-4566-cd0d-871addbe5074"
      },
      "execution_count": null,
      "outputs": [
        {
          "output_type": "stream",
          "name": "stdout",
          "text": [
            "Epoch:  1  Training Loss:  0.33381318310126923  Validation Loss: 0.20253641383475854  Training Accuracy:  0.9003888888888889  Validation Accuracy: 0.9398333333333333\n",
            "Epoch:  2  Training Loss:  0.1881230107996442  Validation Loss: 0.1598765639715446  Training Accuracy:  0.9439814814814815  Validation Accuracy: 0.9545\n",
            "Epoch:  3  Training Loss:  0.1505517654384135  Validation Loss: 0.14564386897833984  Training Accuracy:  0.9551111111111111  Validation Accuracy: 0.9583333333333334\n",
            "Epoch:  4  Training Loss:  0.1306969940512828  Validation Loss: 0.14045186956679195  Training Accuracy:  0.9618703703703704  Validation Accuracy: 0.9626666666666667\n",
            "Epoch:  5  Training Loss:  0.11803450924758235  Validation Loss: 0.1371803743622551  Training Accuracy:  0.965925925925926  Validation Accuracy: 0.9621666666666666\n",
            "Epoch:  6  Training Loss:  0.10921470393228362  Validation Loss: 0.13582253563987062  Training Accuracy:  0.9683703703703703  Validation Accuracy: 0.9635\n",
            "Epoch:  7  Training Loss:  0.10234275726420633  Validation Loss: 0.135566919686211  Training Accuracy:  0.9707592592592592  Validation Accuracy: 0.9638333333333333\n",
            "Epoch:  8  Training Loss:  0.09646805884743345  Validation Loss: 0.13402200835456032  Training Accuracy:  0.9724444444444444  Validation Accuracy: 0.965\n",
            "Epoch:  9  Training Loss:  0.0912354571158022  Validation Loss: 0.13340292988174604  Training Accuracy:  0.9739814814814814  Validation Accuracy: 0.9655\n",
            "Epoch:  10  Training Loss:  0.08663868469826735  Validation Loss: 0.1348068054584525  Training Accuracy:  0.9752037037037037  Validation Accuracy: 0.9655\n",
            "Epoch:  11  Training Loss:  0.08273011973424019  Validation Loss: 0.13438267426784306  Training Accuracy:  0.9767407407407407  Validation Accuracy: 0.9653333333333334\n",
            "Epoch:  12  Training Loss:  0.07937863683932539  Validation Loss: 0.13602860555992427  Training Accuracy:  0.9777037037037037  Validation Accuracy: 0.9661666666666666\n"
          ]
        },
        {
          "output_type": "execute_result",
          "data": {
            "text/plain": [
              "(0.07937863683932539,\n",
              " 0.13602860555992427,\n",
              " 0.9777037037037037,\n",
              " 0.9661666666666666)"
            ]
          },
          "metadata": {},
          "execution_count": 23
        }
      ]
    },
    {
      "cell_type": "code",
      "source": [
        "y_pred_mnist_1 = model_mnist_1.predict(x_test_mnist)\n",
        "print(\"Test Accuracy for model 1:\", accuracy(np.argmax(y_test_mnist,1), np.argmax(y_pred_mnist_1,1)))\n",
        "\n",
        "y_pred_mnist_2 = model_mnist_2.predict(x_test_mnist)\n",
        "print(\"Test Accuracy for model 2:\", accuracy(np.argmax(y_test_mnist,1), np.argmax(y_pred_mnist_2,1)))\n",
        "\n",
        "y_pred_mnist_3 = model_mnist_3.predict(x_test_mnist)\n",
        "print(\"Test Accuracy for model 3:\", accuracy(np.argmax(y_test_mnist,1), np.argmax(y_pred_mnist_3,1)))\n"
      ],
      "metadata": {
        "colab": {
          "base_uri": "https://localhost:8080/"
        },
        "id": "WvWsj9OOpx9w",
        "outputId": "b1f853e0-a13a-49e9-f0d9-ac128be89660"
      },
      "execution_count": null,
      "outputs": [
        {
          "output_type": "stream",
          "name": "stdout",
          "text": [
            "Test Accuracy for model 1: 0.9666\n",
            "Test Accuracy for model 2: 0.9671\n",
            "Test Accuracy for model 3: 0.9643\n"
          ]
        }
      ]
    }
  ],
  "metadata": {
    "colab": {
      "collapsed_sections": [],
      "name": "Assignment_1.ipynb",
      "provenance": [],
      "include_colab_link": true
    },
    "kernelspec": {
      "display_name": "Python 3",
      "name": "python3"
    },
    "language_info": {
      "name": "python"
    },
    "widgets": {
      "application/vnd.jupyter.widget-state+json": {
        "7ededccfbc214ed69a9bf924a121296c": {
          "model_module": "@jupyter-widgets/controls",
          "model_name": "VBoxModel",
          "model_module_version": "1.5.0",
          "state": {
            "_view_name": "VBoxView",
            "_dom_classes": [],
            "_model_name": "VBoxModel",
            "_view_module": "@jupyter-widgets/controls",
            "_model_module_version": "1.5.0",
            "_view_count": null,
            "_view_module_version": "1.5.0",
            "box_style": "",
            "layout": "IPY_MODEL_31b806c3dfbe4571bdc9c78d04e55a41",
            "_model_module": "@jupyter-widgets/controls",
            "children": [
              "IPY_MODEL_e7af6308beb24f8d81182f0acbad4b21",
              "IPY_MODEL_481f9ce3cb4d48509c79ef8e1101d748"
            ]
          }
        },
        "31b806c3dfbe4571bdc9c78d04e55a41": {
          "model_module": "@jupyter-widgets/base",
          "model_name": "LayoutModel",
          "model_module_version": "1.2.0",
          "state": {
            "_view_name": "LayoutView",
            "grid_template_rows": null,
            "right": null,
            "justify_content": null,
            "_view_module": "@jupyter-widgets/base",
            "overflow": null,
            "_model_module_version": "1.2.0",
            "_view_count": null,
            "flex_flow": null,
            "width": null,
            "min_width": null,
            "border": null,
            "align_items": null,
            "bottom": null,
            "_model_module": "@jupyter-widgets/base",
            "top": null,
            "grid_column": null,
            "overflow_y": null,
            "overflow_x": null,
            "grid_auto_flow": null,
            "grid_area": null,
            "grid_template_columns": null,
            "flex": null,
            "_model_name": "LayoutModel",
            "justify_items": null,
            "grid_row": null,
            "max_height": null,
            "align_content": null,
            "visibility": null,
            "align_self": null,
            "height": null,
            "min_height": null,
            "padding": null,
            "grid_auto_rows": null,
            "grid_gap": null,
            "max_width": null,
            "order": null,
            "_view_module_version": "1.2.0",
            "grid_template_areas": null,
            "object_position": null,
            "object_fit": null,
            "grid_auto_columns": null,
            "margin": null,
            "display": null,
            "left": null
          }
        },
        "e7af6308beb24f8d81182f0acbad4b21": {
          "model_module": "@jupyter-widgets/controls",
          "model_name": "LabelModel",
          "model_module_version": "1.5.0",
          "state": {
            "_view_name": "LabelView",
            "style": "IPY_MODEL_215ed5b847404f92a77103f51360254b",
            "_dom_classes": [],
            "description": "",
            "_model_name": "LabelModel",
            "placeholder": "​",
            "_view_module": "@jupyter-widgets/controls",
            "_model_module_version": "1.5.0",
            "value": " 0.01MB of 0.01MB uploaded (0.00MB deduped)\r",
            "_view_count": null,
            "_view_module_version": "1.5.0",
            "description_tooltip": null,
            "_model_module": "@jupyter-widgets/controls",
            "layout": "IPY_MODEL_242b12af22324835b52156ce7f7a25f8"
          }
        },
        "481f9ce3cb4d48509c79ef8e1101d748": {
          "model_module": "@jupyter-widgets/controls",
          "model_name": "FloatProgressModel",
          "model_module_version": "1.5.0",
          "state": {
            "_view_name": "ProgressView",
            "style": "IPY_MODEL_a3d5637b1acd41bfb4672621109ed7d9",
            "_dom_classes": [],
            "description": "",
            "_model_name": "FloatProgressModel",
            "bar_style": "",
            "max": 1,
            "_view_module": "@jupyter-widgets/controls",
            "_model_module_version": "1.5.0",
            "value": 1,
            "_view_count": null,
            "_view_module_version": "1.5.0",
            "orientation": "horizontal",
            "min": 0,
            "description_tooltip": null,
            "_model_module": "@jupyter-widgets/controls",
            "layout": "IPY_MODEL_8669e47953d24d3b8052e9bf0145cf1a"
          }
        },
        "215ed5b847404f92a77103f51360254b": {
          "model_module": "@jupyter-widgets/controls",
          "model_name": "DescriptionStyleModel",
          "model_module_version": "1.5.0",
          "state": {
            "_view_name": "StyleView",
            "_model_name": "DescriptionStyleModel",
            "description_width": "",
            "_view_module": "@jupyter-widgets/base",
            "_model_module_version": "1.5.0",
            "_view_count": null,
            "_view_module_version": "1.2.0",
            "_model_module": "@jupyter-widgets/controls"
          }
        },
        "242b12af22324835b52156ce7f7a25f8": {
          "model_module": "@jupyter-widgets/base",
          "model_name": "LayoutModel",
          "model_module_version": "1.2.0",
          "state": {
            "_view_name": "LayoutView",
            "grid_template_rows": null,
            "right": null,
            "justify_content": null,
            "_view_module": "@jupyter-widgets/base",
            "overflow": null,
            "_model_module_version": "1.2.0",
            "_view_count": null,
            "flex_flow": null,
            "width": null,
            "min_width": null,
            "border": null,
            "align_items": null,
            "bottom": null,
            "_model_module": "@jupyter-widgets/base",
            "top": null,
            "grid_column": null,
            "overflow_y": null,
            "overflow_x": null,
            "grid_auto_flow": null,
            "grid_area": null,
            "grid_template_columns": null,
            "flex": null,
            "_model_name": "LayoutModel",
            "justify_items": null,
            "grid_row": null,
            "max_height": null,
            "align_content": null,
            "visibility": null,
            "align_self": null,
            "height": null,
            "min_height": null,
            "padding": null,
            "grid_auto_rows": null,
            "grid_gap": null,
            "max_width": null,
            "order": null,
            "_view_module_version": "1.2.0",
            "grid_template_areas": null,
            "object_position": null,
            "object_fit": null,
            "grid_auto_columns": null,
            "margin": null,
            "display": null,
            "left": null
          }
        },
        "a3d5637b1acd41bfb4672621109ed7d9": {
          "model_module": "@jupyter-widgets/controls",
          "model_name": "ProgressStyleModel",
          "model_module_version": "1.5.0",
          "state": {
            "_view_name": "StyleView",
            "_model_name": "ProgressStyleModel",
            "description_width": "",
            "_view_module": "@jupyter-widgets/base",
            "_model_module_version": "1.5.0",
            "_view_count": null,
            "_view_module_version": "1.2.0",
            "bar_color": null,
            "_model_module": "@jupyter-widgets/controls"
          }
        },
        "8669e47953d24d3b8052e9bf0145cf1a": {
          "model_module": "@jupyter-widgets/base",
          "model_name": "LayoutModel",
          "model_module_version": "1.2.0",
          "state": {
            "_view_name": "LayoutView",
            "grid_template_rows": null,
            "right": null,
            "justify_content": null,
            "_view_module": "@jupyter-widgets/base",
            "overflow": null,
            "_model_module_version": "1.2.0",
            "_view_count": null,
            "flex_flow": null,
            "width": null,
            "min_width": null,
            "border": null,
            "align_items": null,
            "bottom": null,
            "_model_module": "@jupyter-widgets/base",
            "top": null,
            "grid_column": null,
            "overflow_y": null,
            "overflow_x": null,
            "grid_auto_flow": null,
            "grid_area": null,
            "grid_template_columns": null,
            "flex": null,
            "_model_name": "LayoutModel",
            "justify_items": null,
            "grid_row": null,
            "max_height": null,
            "align_content": null,
            "visibility": null,
            "align_self": null,
            "height": null,
            "min_height": null,
            "padding": null,
            "grid_auto_rows": null,
            "grid_gap": null,
            "max_width": null,
            "order": null,
            "_view_module_version": "1.2.0",
            "grid_template_areas": null,
            "object_position": null,
            "object_fit": null,
            "grid_auto_columns": null,
            "margin": null,
            "display": null,
            "left": null
          }
        }
      }
    }
  },
  "nbformat": 4,
  "nbformat_minor": 0
}