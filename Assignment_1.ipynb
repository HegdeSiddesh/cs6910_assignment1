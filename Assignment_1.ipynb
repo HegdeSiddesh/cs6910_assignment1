{
  "cells": [
    {
      "cell_type": "markdown",
      "metadata": {
        "id": "view-in-github",
        "colab_type": "text"
      },
      "source": [
        "<a href=\"https://colab.research.google.com/github/HegdeSiddesh/cs6910_assignment1/blob/main/Assignment_1.ipynb\" target=\"_parent\"><img src=\"https://colab.research.google.com/assets/colab-badge.svg\" alt=\"Open In Colab\"/></a>"
      ]
    },
    {
      "cell_type": "code",
      "execution_count": null,
      "metadata": {
        "id": "ZijUCAyFx5_s",
        "colab": {
          "base_uri": "https://localhost:8080/"
        },
        "outputId": "6addb2ae-046d-4386-ec1e-4806a42a36d4"
      },
      "outputs": [
        {
          "output_type": "stream",
          "name": "stdout",
          "text": [
            "\u001b[K     |████████████████████████████████| 1.7 MB 13.9 MB/s \n",
            "\u001b[K     |████████████████████████████████| 144 kB 52.9 MB/s \n",
            "\u001b[K     |████████████████████████████████| 180 kB 55.2 MB/s \n",
            "\u001b[K     |████████████████████████████████| 63 kB 1.9 MB/s \n",
            "\u001b[?25h  Building wheel for pathtools (setup.py) ... \u001b[?25l\u001b[?25hdone\n"
          ]
        }
      ],
      "source": [
        "from keras.datasets import fashion_mnist\n",
        "import matplotlib.pyplot as plt \n",
        "import pandas as pd\n",
        "import numpy as np\n",
        "import random\n",
        "np.random.seed(137) # To ensure that the random number generated are the same for every iteration\n",
        "!pip install wandb -qq\n",
        "import wandb\n",
        "#from wandb.keras import WandbCallback"
      ]
    },
    {
      "cell_type": "code",
      "execution_count": null,
      "metadata": {
        "colab": {
          "base_uri": "https://localhost:8080/",
          "height": 69
        },
        "id": "wDIk96MJvcIw",
        "outputId": "a32c0f17-a903-4c46-b443-c59c095141d8"
      },
      "outputs": [
        {
          "output_type": "display_data",
          "data": {
            "application/javascript": [
              "\n",
              "        window._wandbApiKey = new Promise((resolve, reject) => {\n",
              "            function loadScript(url) {\n",
              "            return new Promise(function(resolve, reject) {\n",
              "                let newScript = document.createElement(\"script\");\n",
              "                newScript.onerror = reject;\n",
              "                newScript.onload = resolve;\n",
              "                document.body.appendChild(newScript);\n",
              "                newScript.src = url;\n",
              "            });\n",
              "            }\n",
              "            loadScript(\"https://cdn.jsdelivr.net/npm/postmate/build/postmate.min.js\").then(() => {\n",
              "            const iframe = document.createElement('iframe')\n",
              "            iframe.style.cssText = \"width:0;height:0;border:none\"\n",
              "            document.body.appendChild(iframe)\n",
              "            const handshake = new Postmate({\n",
              "                container: iframe,\n",
              "                url: 'https://wandb.ai/authorize'\n",
              "            });\n",
              "            const timeout = setTimeout(() => reject(\"Couldn't auto authenticate\"), 5000)\n",
              "            handshake.then(function(child) {\n",
              "                child.on('authorize', data => {\n",
              "                    clearTimeout(timeout)\n",
              "                    resolve(data)\n",
              "                });\n",
              "            });\n",
              "            })\n",
              "        });\n",
              "    "
            ],
            "text/plain": [
              "<IPython.core.display.Javascript object>"
            ]
          },
          "metadata": {}
        },
        {
          "output_type": "stream",
          "name": "stderr",
          "text": [
            "\u001b[34m\u001b[1mwandb\u001b[0m: Appending key for api.wandb.ai to your netrc file: /root/.netrc\n"
          ]
        },
        {
          "output_type": "execute_result",
          "data": {
            "text/plain": [
              "True"
            ]
          },
          "metadata": {},
          "execution_count": 2
        }
      ],
      "source": [
        "wandb.login()"
      ]
    },
    {
      "cell_type": "code",
      "execution_count": null,
      "metadata": {
        "colab": {
          "base_uri": "https://localhost:8080/",
          "height": 73
        },
        "id": "k6svSX9E0qof",
        "outputId": "a947ffbf-8faa-4db2-acc9-e5b8c43fd8ae"
      },
      "outputs": [
        {
          "output_type": "stream",
          "name": "stderr",
          "text": [
            "\u001b[34m\u001b[1mwandb\u001b[0m: Currently logged in as: \u001b[33mhegdesiddesh\u001b[0m (use `wandb login --relogin` to force relogin)\n"
          ]
        },
        {
          "output_type": "display_data",
          "data": {
            "text/html": [
              "\n",
              "                    Syncing run <strong><a href=\"https://wandb.ai/hegdesiddesh/Assignment_1/runs/v3kxd5z7\" target=\"_blank\">Question 1</a></strong> to <a href=\"https://wandb.ai/hegdesiddesh/Assignment_1\" target=\"_blank\">Weights & Biases</a> (<a href=\"https://docs.wandb.com/integrations/jupyter.html\" target=\"_blank\">docs</a>).<br/>\n",
              "\n",
              "                "
            ],
            "text/plain": [
              "<IPython.core.display.HTML object>"
            ]
          },
          "metadata": {}
        },
        {
          "output_type": "execute_result",
          "data": {
            "text/plain": [
              "<wandb.sdk.wandb_run.Run at 0x7f520d5b9d10>"
            ],
            "text/html": [
              "<button onClick=\"this.nextSibling.style.display='block';this.style.display='none';\">Display W&B run</button><iframe src=\"https://wandb.ai/hegdesiddesh/Assignment_1/runs/v3kxd5z7?jupyter=true\" style=\"border:none;width:100%;height:420px;display:none;\"></iframe>"
            ]
          },
          "metadata": {},
          "execution_count": 3
        }
      ],
      "source": [
        "wandb.init(project=\"Assignment_1\", name=\"Question 1\")"
      ]
    },
    {
      "cell_type": "markdown",
      "metadata": {
        "id": "PFOtZvG_lePo"
      },
      "source": [
        "##Question 1\n",
        "\n",
        "Download the fashion-MNIST dataset and plot 1 sample image for each class."
      ]
    },
    {
      "cell_type": "code",
      "execution_count": null,
      "metadata": {
        "id": "NZGh0_vIRXEY",
        "colab": {
          "base_uri": "https://localhost:8080/"
        },
        "outputId": "4cc9cf13-815d-41c6-c659-476ed2177f08"
      },
      "outputs": [
        {
          "output_type": "stream",
          "name": "stdout",
          "text": [
            "Downloading data from https://storage.googleapis.com/tensorflow/tf-keras-datasets/train-labels-idx1-ubyte.gz\n",
            "32768/29515 [=================================] - 0s 0us/step\n",
            "40960/29515 [=========================================] - 0s 0us/step\n",
            "Downloading data from https://storage.googleapis.com/tensorflow/tf-keras-datasets/train-images-idx3-ubyte.gz\n",
            "26427392/26421880 [==============================] - 0s 0us/step\n",
            "26435584/26421880 [==============================] - 0s 0us/step\n",
            "Downloading data from https://storage.googleapis.com/tensorflow/tf-keras-datasets/t10k-labels-idx1-ubyte.gz\n",
            "16384/5148 [===============================================================================================] - 0s 0us/step\n",
            "Downloading data from https://storage.googleapis.com/tensorflow/tf-keras-datasets/t10k-images-idx3-ubyte.gz\n",
            "4423680/4422102 [==============================] - 0s 0us/step\n",
            "4431872/4422102 [==============================] - 0s 0us/step\n"
          ]
        }
      ],
      "source": [
        "#Load the fashion MNIST data \n",
        "(x_train, y_train), (x_test, y_test) = fashion_mnist.load_data()"
      ]
    },
    {
      "cell_type": "code",
      "execution_count": null,
      "metadata": {
        "id": "jL5eKXe4SWzK"
      },
      "outputs": [],
      "source": [
        "#Get indices for the unique class labels\n",
        "unique_indices = np.unique(y_train, return_index=True)\n",
        "\n",
        "# Label reference : https://github.com/zalandoresearch/fashion-mnist\n",
        "image_label = {0: \"T-shirt/top\", 1: \"Trouser\", 2: \"Pullover\", 3: \"Dress\", 4: \"Coat\", 5: \"Sandal\", 6: \"Shirt\", 7: \"Sneaker\", 8: \"Bag\", 9: \"Ankle boot\"}"
      ]
    },
    {
      "cell_type": "code",
      "execution_count": null,
      "metadata": {
        "colab": {
          "base_uri": "https://localhost:8080/",
          "height": 544
        },
        "id": "2prn-gAWVQMQ",
        "outputId": "d2de9ce2-e32f-4384-86b7-f97a2d30f7fb"
      },
      "outputs": [
        {
          "output_type": "display_data",
          "data": {
            "image/png": "[encoded data removed]",
            "text/plain": [
              "<Figure size 1440x1440 with 10 Axes>"
            ]
          },
          "metadata": {}
        }
      ],
      "source": [
        "image_num=0\n",
        "f, axarr = plt.subplots(2,5, sharex='col', sharey='row', figsize=(20,20))\n",
        "plt.subplots_adjust(bottom=0.3, top=0.7, hspace=0)\n",
        "\n",
        "# Plotting 2*5 subplot of images of different labels\n",
        "for i in range(0,2):\n",
        "  for j in range(0,5):\n",
        "    axarr[i,j].imshow(x_train[unique_indices[1][image_num]])\n",
        "    axarr[i,j].set_title(image_label[image_num], fontdict = {'fontsize' : 30})\n",
        "    axarr[i,j].set_xticks([])\n",
        "    axarr[i,j].set_yticks([])\n",
        "    caption = image_label[image_num]\n",
        "    wandb.log({\"Samples\": [wandb.Image(x_train[unique_indices[1][image_num]], caption=caption)]})\n",
        "    image_num += 1\n",
        "\n",
        "plt.show()"
      ]
    },
    {
      "cell_type": "code",
      "execution_count": null,
      "metadata": {
        "colab": {
          "base_uri": "https://localhost:8080/",
          "height": 124,
          "referenced_widgets": [
            "8e7957ee1079447a986641d17145d424",
            "2fa9e60928144aeda196ad3e80d6b375",
            "ce3d234978654abd9336b4cb656329b2",
            "bab8f9934409453bb207e5d733671562",
            "958a22d79e694e6f9d33449e6ba6de4f",
            "fd3a812eb92e4e89b4969925c9aa5c7e",
            "c1e9599694e742eab85b5aa4d06fa20a",
            "b264b44dcf334945bb1141e7cdd50535"
          ]
        },
        "id": "OGKGha-r7Y0k",
        "outputId": "56c6507e-629f-4ed6-c794-c4b89166c297"
      },
      "outputs": [
        {
          "output_type": "display_data",
          "data": {
            "text/html": [
              "<br/>Waiting for W&B process to finish, PID 163... <strong style=\"color:green\">(success).</strong>"
            ],
            "text/plain": [
              "<IPython.core.display.HTML object>"
            ]
          },
          "metadata": {}
        },
        {
          "output_type": "display_data",
          "data": {
            "application/vnd.jupyter.widget-view+json": {
              "model_id": "8e7957ee1079447a986641d17145d424",
              "version_minor": 0,
              "version_major": 2
            },
            "text/plain": [
              "VBox(children=(Label(value=' 0.01MB of 0.01MB uploaded (0.00MB deduped)\\r'), FloatProgress(value=1.0, max=1.0)…"
            ]
          },
          "metadata": {}
        },
        {
          "output_type": "display_data",
          "data": {
            "text/html": [
              "<style>\n",
              "    table.wandb td:nth-child(1) { padding: 0 10px; text-align: right }\n",
              "    .wandb-row { display: flex; flex-direction: row; flex-wrap: wrap; width: 100% }\n",
              "    .wandb-col { display: flex; flex-direction: column; flex-basis: 100%; flex: 1; padding: 10px; }\n",
              "    </style>\n",
              "<div class=\"wandb-row\"><div class=\"wandb-col\">\n",
              "</div><div class=\"wandb-col\">\n",
              "</div></div>\n",
              "Synced 5 W&B file(s), 10 media file(s), 0 artifact file(s) and 0 other file(s)\n",
              "<br/>Synced <strong style=\"color:#cdcd00\">Question 1</strong>: <a href=\"https://wandb.ai/hegdesiddesh/Assignment_1/runs/v3kxd5z7\" target=\"_blank\">https://wandb.ai/hegdesiddesh/Assignment_1/runs/v3kxd5z7</a><br/>\n",
              "Find logs at: <code>./wandb/run-20220218_184448-v3kxd5z7/logs</code><br/>\n"
            ],
            "text/plain": [
              "<IPython.core.display.HTML object>"
            ]
          },
          "metadata": {}
        }
      ],
      "source": [
        "wandb.finish()"
      ]
    },
    {
      "cell_type": "markdown",
      "metadata": {
        "id": "o4MuTlxYlZCH"
      },
      "source": [
        "##Question 2\n",
        "\n",
        "Implement a feedforward neural network which takes images from the fashion-mnist data as input and outputs a probability distribution over the 10 classes.\n",
        "\n",
        "\n",
        "\n",
        "Your code should be flexible so that it is easy to change the number of hidden layers and the number of neurons in each hidden layer.\n",
        "\n",
        "\n",
        "\n"
      ]
    },
    {
      "cell_type": "code",
      "execution_count": null,
      "metadata": {
        "id": "RIkkCFuMlcPA"
      },
      "outputs": [],
      "source": [
        "class FeedForwardNeuralNetwork():\n",
        "  def __init__(self, hidden_layer_sizes, epochs, learning_rate):\n",
        "    self.hidden_layer_sizes = hidden_layer_sizes\n",
        "    self.learning_rate = learning_rate\n",
        "    self.input_layer_size=0\n",
        "    self.output_layer_size=1\n",
        "    self.epochs = epochs\n",
        "    self.weights = {}\n",
        "    self.biases = {}\n",
        "    self.A = {}\n",
        "    self.H = {}\n",
        "    self.dw = {}\n",
        "    self.db = {}\n",
        "    self.dA = {}\n",
        "    self.dH = {}\n",
        "    #Layer sizes array will be initialzed after input and output layer size is obtained\n",
        "    self.layer_sizes = []\n",
        "\n",
        "  def initialize_weights(self):\n",
        "    self.layer_sizes = [self.input_layer_size] + self.hidden_layer_sizes + [self.output_layer_size]\n",
        "    weight_counts = len(self.hidden_layer_sizes)+1\n",
        "    nump = np.random.RandomState(137)\n",
        "    for i in range(weight_counts):\n",
        "      # Setting up the weights per layer. Initialized randomly as matrix of size of previous layer * next layer \n",
        "      self.weights[i+1] = nump.rand(self.layer_sizes[i], self.layer_sizes[i+1])\n",
        "      # Setting up the biases per layer. Initialized to 0 as matrix of size of 1 * next layer \n",
        "      # Creates a row of biases corresponding to each weight of the layer\n",
        "      self.biases[i+1] = np.zeros((1, self.layer_sizes[i+1]))\n",
        "\n",
        "\n",
        "\n",
        "  def softmax(self, X):\n",
        "    #Utility to compute softmax function\n",
        "    exponentials = np.exp(X)\n",
        "    return exponentials / np.sum(exponentials)\n",
        "\n",
        "  def sigmoid(self,X):\n",
        "    #Utility to compute sigmoid function\n",
        "    return 1.0/(1.0+np.exp(-X))\n",
        "\n",
        "  def sigmoid_gradient(self,X):\n",
        "    #Utility to compute sigmoid function\n",
        "    #sigmoid = self.sigmoid(X)\n",
        "    return X*(1-X)\n",
        "\n",
        "  def cross_entropy(self,Y_true,Y_pred):\n",
        "    #Utility to compute cross entropy loss\n",
        "    # loss= -np.sum(np.sum(Y_true*np.log(Y_pred)))\n",
        "    # return loss\n",
        "    yl=np.multiply(Y_pred,Y_true)\n",
        "    yl=yl[yl!=0]\n",
        "    yl=-np.log(yl)\n",
        "    yl=np.mean(yl)\n",
        "    return yl\n",
        "\n",
        "  def cross_entropy_gradient(self,Y_true,Y_pred):\n",
        "    #Utility to compute gradient of cross entropy loss\n",
        "    return -Y_true/(Y_pred)\n",
        "\n",
        "  def tanh(self,X):\n",
        "    # Utility to compute tanh function\n",
        "    return np.tanh(X)\n",
        "\n",
        "  def tanh_derivate(self,X):\n",
        "    # Utility to compute tanh derivative\n",
        "    return 1 - (np.tanh(X) ** 2)\n",
        "\n",
        "  def relu(self,X):\n",
        "    # Utility to compute relu function\n",
        "    return X * (X > 0)\n",
        "\n",
        "  def relu_derivative(self,X):\n",
        "    # Utility to compute relu derivative\n",
        "    X[X <= 0.0] = 0.0\n",
        "    X[X > 0.0] = 1.0\n",
        "    return X\n",
        "\n",
        "\n",
        "  def forward_propogation(self, X):\n",
        "\n",
        "    self.A = {}\n",
        "    self.H = {}\n",
        "    #Initialize the output from input layer as H[0] into a single row(row vector)\n",
        "    self.H[0] = X.reshape(1,-1)\n",
        "    #print((self.H[0]).dtype)\n",
        "    self.H[0] = self.H[0].astype('float128')\n",
        "\n",
        "\n",
        "    #Compute a(x) = W_x*h(x-1) and h(a(x)) = sigmoid(a(x)) for hidden layer\n",
        "    for i in range(len(self.hidden_layer_sizes)):\n",
        "      self.A[i+1] = np.matmul(self.H[i], self.weights[i+1]) + self.biases[i+1]\n",
        "      self.H[i+1] = self.sigmoid(self.A[i+1])\n",
        "\n",
        "    #Compute a(x) and h(a(x)) = softmax(a(x)) for output layer\n",
        "    self.A[len(self.hidden_layer_sizes)+1] = np.matmul(self.H[len(self.hidden_layer_sizes)], self.weights[len(self.hidden_layer_sizes)+1]) + self.biases[len(self.hidden_layer_sizes)+1]\n",
        "    self.H[len(self.hidden_layer_sizes)+1] = self.softmax(self.A[len(self.hidden_layer_sizes)+1]) \n",
        "    return\n",
        "\n",
        "  def backward_propogation(self, X, Y,  dw_i, db_i):\n",
        "\n",
        "    #Compute the gradient of loss wrt the activation of output layer\n",
        "    #self.dH[len(self.hidden_layer_sizes)+1] = self.cross_entropy_gradient(Y, self.H[len(self.hidden_layer_sizes)+1])\n",
        "    self.dA[len(self.hidden_layer_sizes)+1] = -(Y - self.H[len(self.hidden_layer_sizes)+1])#cross_entropy_gradient(Y, self.H[len(self.hidden_layer_sizes)+1])\n",
        "\n",
        "    #Compute the partial derivatives for the weights and biases of the layers\n",
        "    for i in range(len(self.hidden_layer_sizes), -1, -1):\n",
        "      #eg:(assuming 2 hidden layers) dL/dW3 = dA3/dW3 * dL/dA3 = d(W3*H2 + B3)/dW3 * dL/dA3 = H2 * dL/dA3\n",
        "      dw_i[i+1] = np.matmul(self.H[i].T, self.dA[i+1])\n",
        "      #eg:(assuming 2 hidden layers) dL/dB3 = dA3/dB3 * dL/dA3 = d(W3*H2 + B3)/dB3 * dL/dA3 = 1 * dL/dA3\n",
        "      db_i[i+1] = self.dA[i+1]\n",
        "      #eg:(assuming 2 hidden layers) dL/dH2 = dA3/dH2 * dL/dA3 = d(W3*H2 + B3)/dH2 * dL/dA3 = W3 * dL/dA3\n",
        "      self.dH[i] = np.matmul(self.dA[i+1],self.weights[i+1].T)\n",
        "      #eg:(assuming 2 hidden layers) dL/dA2 = dH2/dA2 * dL/dH2 = d(sigmoid(A2))/dA2 * dL/dH2 = sigmoid(A2) * (1-sigmoid(A2)) * dL/dH2 (for sigmoid activation)\n",
        "      ## THIS IS HADAMARD PRODUCT IE NOT DOT PRODUCT\n",
        "      self.dA[i] = np.multiply(self.sigmoid_gradient(self.H[i]), self.dH[i])    \n",
        "    return\n",
        "\n",
        "\n",
        "  def gradient_descent(self):\n",
        "    for i in range(len(self.hidden_layer_sizes)+1):\n",
        "        # w_t = w_{t-1} - eta*(dL/dw)\n",
        "        self.weights[i+1] = self.weights[i+1] - self.learning_rate * self.dw[i+1]\n",
        "        # b_t = b_{t-1} - eta*(dL/db)\n",
        "        self.biases[i+1] = self.biases[i+1] - self.learning_rate * self.db[i+1]\n",
        "    return \n",
        "\n",
        "\n",
        "\n",
        "  def fit(self, X, Y):\n",
        "    self.input_layer_size = X.shape[1]*X.shape[1] # Number of features in data(features)\n",
        "    self.output_layer_size = Y.shape[1] # Number of columns in output (label count)\n",
        "    self.initialize_weights()\n",
        "    for e in range(self.epochs):\n",
        "      #Gradients computed for this iteration/epoch\n",
        "      y_preds = []\n",
        "\n",
        "      for i in range(len(self.hidden_layer_sizes)+1):\n",
        "        self.dw[i+1] = np.zeros((self.layer_sizes[i], self.layer_sizes[i+1]))\n",
        "        self.db[i+1] = np.zeros((1, self.layer_sizes[i+1]))\n",
        "\n",
        "      for x, y in zip(X, Y):\n",
        "        dw_i = {}\n",
        "        db_i = {}\n",
        "\n",
        "        #Forward Propogation\n",
        "        self.forward_propogation(x)\n",
        "\n",
        "        #loss and prediction class\n",
        "        y_preds.append(self.H[len(self.hidden_layer_sizes)+1])\n",
        "        \n",
        "        #Backward Propogation using Loss funtion MSE\n",
        "        self.backward_propogation(x,y, dw_i, db_i) \n",
        "\n",
        "        for i in range(len(self.hidden_layer_sizes)+1):\n",
        "          self.dw[i+1] += dw_i[i+1]\n",
        "          self.db[i+1] += db_i[i+1]\n",
        "\n",
        "      #Update weights based on loss(GD hence once every epoch update)\n",
        "      self.gradient_descent()\n",
        "      y_preds = np.array(y_preds).squeeze()\n",
        "      print(\"Epoch: \",e,\" Loss: \",self.cross_entropy(Y, y_preds) )\n",
        "\n",
        "\n",
        "  def predict(self, X):\n",
        "    #Find the predictions based on the fitted model\n",
        "    values = self.forward_propogation(X)\n",
        "    predictions = self.H[len(self.hidden_layer_sizes)+1]\n",
        "    return predictions\n",
        "      \n"
      ]
    },
    {
      "cell_type": "code",
      "execution_count": null,
      "metadata": {
        "colab": {
          "base_uri": "https://localhost:8080/"
        },
        "id": "p9x4PVjA2oAf",
        "outputId": "c60f9437-d7d2-4c02-db24-d772712e99bb"
      },
      "outputs": [
        {
          "output_type": "stream",
          "name": "stdout",
          "text": [
            "Epoch:  0  Loss:  11.158632878711602577\n",
            "Epoch:  1  Loss:  56.459906650211561987\n",
            "Epoch:  2  Loss:  103.18513388453057602\n",
            "Epoch:  3  Loss:  145.23074438298768855\n",
            "Epoch:  4  Loss:  178.47091976878302264\n",
            "Epoch:  5  Loss:  203.24233294268224395\n",
            "Epoch:  6  Loss:  190.9932346744848967\n",
            "Epoch:  7  Loss:  194.9111013237063116\n",
            "Epoch:  8  Loss:  202.96914933221613472\n",
            "Epoch:  9  Loss:  242.3250418288858484\n"
          ]
        }
      ],
      "source": [
        "from sklearn.preprocessing import OneHotEncoder\n",
        "\n",
        "encoder = OneHotEncoder()\n",
        "y_encoded = encoder.fit_transform(np.expand_dims(y_train,1)).toarray()\n",
        "\n",
        "model = FeedForwardNeuralNetwork([100,256, 512], 10, 0.0001)\n",
        "\n",
        "model.fit(x_train[0:10000], y_encoded[0:10000])"
      ]
    },
    {
      "cell_type": "code",
      "execution_count": null,
      "metadata": {
        "id": "cGfs-NCc6sOx",
        "colab": {
          "base_uri": "https://localhost:8080/"
        },
        "outputId": "a4d0fc3d-a585-49bf-9c61-d7a16f4abf19"
      },
      "outputs": [
        {
          "output_type": "stream",
          "name": "stdout",
          "text": [
            "[[4.76421650e-181 2.33680966e-048 6.93618127e-127 9.99987452e-001\n",
            "  3.24047033e-121 4.81472199e-103 7.04679134e-200 1.33738844e-116\n",
            "  1.25479764e-005 1.31170781e-156]]\n",
            "[0. 0. 0. 0. 0. 0. 0. 0. 0. 1.]\n",
            "[[4.76421650e-181 2.33680966e-048 6.93618127e-127 9.99987452e-001\n",
            "  3.24047033e-121 4.81472199e-103 7.04679134e-200 1.33738844e-116\n",
            "  1.25479764e-005 1.31170781e-156]]\n",
            "[1. 0. 0. 0. 0. 0. 0. 0. 0. 0.]\n",
            "[[4.76421650e-181 2.33680966e-048 6.93618127e-127 9.99987452e-001\n",
            "  3.24047033e-121 4.81472199e-103 7.04679134e-200 1.33738844e-116\n",
            "  1.25479764e-005 1.31170781e-156]]\n",
            "[1. 0. 0. 0. 0. 0. 0. 0. 0. 0.]\n",
            "[[4.76421650e-181 2.33680966e-048 6.93618127e-127 9.99987452e-001\n",
            "  3.24047033e-121 4.81472199e-103 7.04679134e-200 1.33738844e-116\n",
            "  1.25479764e-005 1.31170781e-156]]\n",
            "[0. 0. 0. 1. 0. 0. 0. 0. 0. 0.]\n",
            "[[4.76421650e-181 2.33680966e-048 6.93618127e-127 9.99987452e-001\n",
            "  3.24047033e-121 4.81472199e-103 7.04679134e-200 1.33738844e-116\n",
            "  1.25479764e-005 1.31170781e-156]]\n",
            "[1. 0. 0. 0. 0. 0. 0. 0. 0. 0.]\n",
            "[[4.76421650e-181 2.33680966e-048 6.93618127e-127 9.99987452e-001\n",
            "  3.24047033e-121 4.81472199e-103 7.04679134e-200 1.33738844e-116\n",
            "  1.25479764e-005 1.31170781e-156]]\n",
            "[0. 0. 1. 0. 0. 0. 0. 0. 0. 0.]\n",
            "[[4.76421650e-181 2.33680966e-048 6.93618127e-127 9.99987452e-001\n",
            "  3.24047033e-121 4.81472199e-103 7.04679134e-200 1.33738844e-116\n",
            "  1.25479764e-005 1.31170781e-156]]\n",
            "[0. 0. 0. 0. 0. 0. 0. 1. 0. 0.]\n",
            "[[4.76421650e-181 2.33680966e-048 6.93618127e-127 9.99987452e-001\n",
            "  3.24047033e-121 4.81472199e-103 7.04679134e-200 1.33738844e-116\n",
            "  1.25479764e-005 1.31170781e-156]]\n",
            "[0. 0. 1. 0. 0. 0. 0. 0. 0. 0.]\n",
            "[[4.76421650e-181 2.33680966e-048 6.93618127e-127 9.99987452e-001\n",
            "  3.24047033e-121 4.81472199e-103 7.04679134e-200 1.33738844e-116\n",
            "  1.25479764e-005 1.31170781e-156]]\n",
            "[0. 0. 0. 0. 0. 1. 0. 0. 0. 0.]\n",
            "[[4.76421650e-181 2.33680966e-048 6.93618127e-127 9.99987452e-001\n",
            "  3.24047033e-121 4.81472199e-103 7.04679134e-200 1.33738844e-116\n",
            "  1.25479764e-005 1.31170781e-156]]\n",
            "[0. 0. 0. 0. 0. 1. 0. 0. 0. 0.]\n"
          ]
        }
      ],
      "source": [
        "#Check predictions for first 10 datapoints\n",
        "for i in range(10):\n",
        "  print(model.predict(x_train[i]))\n",
        "  print(y_encoded[i])\n"
      ]
    },
    {
      "cell_type": "markdown",
      "metadata": {
        "id": "6BL7YAWCXxkp"
      },
      "source": [
        "Issue might be in sending dw_i to the functions (check call by value or call by reference)"
      ]
    },
    {
      "cell_type": "markdown",
      "metadata": {
        "id": "LWscsEOVQzct"
      },
      "source": [
        "##Question 3"
      ]
    },
    {
      "cell_type": "code",
      "execution_count": null,
      "metadata": {
        "id": "XneW6CI0Qx6_"
      },
      "outputs": [],
      "source": [
        "##Create classes for loss functions\n",
        "#cross entropy loss\n",
        "\n",
        "#Create classes for optimizers\n",
        "#1.SGD\n",
        "#2.NAG\n",
        "#3.Momentum\n",
        "#4.rmsprop\n",
        "#7.adam\n",
        "#6.nadam\n",
        "##Extra:vanilla gd"
      ]
    },
    {
      "cell_type": "code",
      "source": [
        "class FeedForwardNeuralNetwork():\n",
        "  def __init__(self, hidden_layer_sizes, epochs, optimizer, loss_funtion, activation_function, output_activation):\n",
        "    self.hidden_layer_sizes = hidden_layer_sizes\n",
        "    self.optimizer = optimizer\n",
        "    self.loss_funtion = loss_funtion\n",
        "    self.activation_function = activation_function\n",
        "    self.output_activation = output_activation\n",
        "    self.input_layer_size=0\n",
        "    self.output_layer_size=1\n",
        "    self.epochs = epochs\n",
        "    self.weights = {}\n",
        "    self.biases = {}\n",
        "    self.A = {}\n",
        "    self.H = {}\n",
        "    self.dw = {}\n",
        "    self.db = {}\n",
        "    self.dA = {}\n",
        "    self.dH = {}\n",
        "    #Layer sizes array will be initialzed after input and output layer size is obtained\n",
        "    self.layer_sizes = []\n",
        "\n",
        "  def initialize_weights(self):\n",
        "    self.layer_sizes = [self.input_layer_size] + self.hidden_layer_sizes + [self.output_layer_size]\n",
        "    weight_counts = len(self.hidden_layer_sizes)+1\n",
        "    nump = np.random.RandomState(137)\n",
        "    for i in range(weight_counts):\n",
        "      # Setting up the weights per layer. Initialized randomly as matrix of size of previous layer * next layer \n",
        "      self.weights[i+1] = nump.rand(self.layer_sizes[i], self.layer_sizes[i+1])\n",
        "      # Setting up the biases per layer. Initialized to 0 as matrix of size of 1 * next layer \n",
        "      # Creates a row of biases corresponding to each weight of the layer\n",
        "      self.biases[i+1] = np.zeros((1, self.layer_sizes[i+1]))\n",
        "\n",
        "\n",
        "  def softmax(self, X):\n",
        "    #Utility to compute softmax function\n",
        "    exponentials = np.exp(X)\n",
        "    return exponentials / np.sum(exponentials)\n",
        "\n",
        "  def sigmoid(self,X):\n",
        "    #Utility to compute sigmoid function\n",
        "    return 1.0/(1.0+np.exp(-X))\n",
        "\n",
        "  def sigmoid_gradient(self,X):\n",
        "    #Utility to compute sigmoid function\n",
        "    #sigmoid = self.sigmoid(X)\n",
        "    return X*(1-X)\n",
        "\n",
        "  def cross_entropy(self,Y_true,Y_pred):\n",
        "    #Utility to compute cross entropy loss\n",
        "    # loss= -np.sum(np.sum(Y_true*np.log(Y_pred)))\n",
        "    # return loss\n",
        "    yl=np.multiply(Y_pred,Y_true)\n",
        "    yl=yl[yl!=0]\n",
        "    yl=-np.log(yl)\n",
        "    yl=np.mean(yl)\n",
        "    return yl\n",
        "\n",
        "  def cross_entropy_gradient(self,Y_true,Y_pred):\n",
        "    #Utility to compute gradient of cross entropy loss\n",
        "    return -Y_true/(Y_pred)\n",
        "\n",
        "\n",
        "  def forward_propogation(self, X):\n",
        "\n",
        "    self.A = {}\n",
        "    self.H = {}\n",
        "    #Initialize the output from input layer as H[0] into a single row(row vector)\n",
        "    self.H[0] = X.reshape(1,-1)\n",
        "    #print((self.H[0]).dtype)\n",
        "    self.H[0] = self.H[0].astype('float128')\n",
        "\n",
        "    #Compute a(x) = W_x*h(x-1) and h(a(x)) = sigmoid(a(x)) for hidden layer\n",
        "    for i in range(len(self.hidden_layer_sizes)):\n",
        "      self.A[i+1] = np.matmul(self.H[i], self.weights[i+1]) + self.biases[i+1]\n",
        "      self.H[i+1] = self.activation_function.compute_activation(self.A[i+1])\n",
        "\n",
        "    #Compute a(x) and h(a(x)) = softmax(a(x)) for output layer\n",
        "    self.A[len(self.hidden_layer_sizes)+1] = np.matmul(self.H[len(self.hidden_layer_sizes)], self.weights[len(self.hidden_layer_sizes)+1]) + self.biases[len(self.hidden_layer_sizes)+1]\n",
        "    self.H[len(self.hidden_layer_sizes)+1] = self.softmax(self.A[len(self.hidden_layer_sizes)+1]) \n",
        "    return\n",
        "\n",
        "  def backward_propogation(self, X, Y,  dw_i, db_i):\n",
        "\n",
        "    #Compute the gradient of loss wrt the activation of output layer\n",
        "    #self.dH[len(self.hidden_layer_sizes)+1] = self.cross_entropy_gradient(Y, self.H[len(self.hidden_layer_sizes)+1])\n",
        "    self.dA[len(self.hidden_layer_sizes)+1] = -(Y - self.H[len(self.hidden_layer_sizes)+1])#cross_entropy_gradient(Y, self.H[len(self.hidden_layer_sizes)+1])\n",
        "\n",
        "    #Compute the partial derivatives for the weights and biases of the layers\n",
        "    for i in range(len(self.hidden_layer_sizes), -1, -1):\n",
        "      #eg:(assuming 2 hidden layers) dL/dW3 = dA3/dW3 * dL/dA3 = d(W3*H2 + B3)/dW3 * dL/dA3 = H2 * dL/dA3\n",
        "      dw_i[i+1] = np.matmul(self.H[i].T, self.dA[i+1])\n",
        "      #eg:(assuming 2 hidden layers) dL/dB3 = dA3/dB3 * dL/dA3 = d(W3*H2 + B3)/dB3 * dL/dA3 = 1 * dL/dA3\n",
        "      db_i[i+1] = self.dA[i+1]\n",
        "      #eg:(assuming 2 hidden layers) dL/dH2 = dA3/dH2 * dL/dA3 = d(W3*H2 + B3)/dH2 * dL/dA3 = W3 * dL/dA3\n",
        "      self.dH[i] = np.matmul(self.dA[i+1],self.weights[i+1].T)\n",
        "      #eg:(assuming 2 hidden layers) dL/dA2 = dH2/dA2 * dL/dH2 = d(sigmoid(A2))/dA2 * dL/dH2 = sigmoid(A2) * (1-sigmoid(A2)) * dL/dH2 (for sigmoid activation)\n",
        "      ## THIS IS HADAMARD PRODUCT IE NOT DOT PRODUCT\n",
        "      self.dA[i] = np.multiply(self.sigmoid_gradient(self.H[i]), self.dH[i])    \n",
        "    return\n",
        "\n",
        "\n",
        "  def fit(self, X, Y):\n",
        "    self.input_layer_size = X.shape[1]*X.shape[1] # Number of features in data(features)\n",
        "    self.output_layer_size = Y.shape[1] # Number of columns in output (label count)\n",
        "    self.initialize_weights()\n",
        "    for e in range(self.epochs):\n",
        "      #Gradients computed for this iteration/epoch\n",
        "      y_preds = []\n",
        "\n",
        "      for i in range(len(self.hidden_layer_sizes)+1):\n",
        "        self.dw[i+1] = np.zeros((self.layer_sizes[i], self.layer_sizes[i+1]))\n",
        "        self.db[i+1] = np.zeros((1, self.layer_sizes[i+1]))\n",
        "\n",
        "      for x, y in zip(X, Y):\n",
        "        dw_i = {}\n",
        "        db_i = {}\n",
        "\n",
        "        #Forward Propogation\n",
        "        self.forward_propogation(x)\n",
        "\n",
        "        #loss and prediction class\n",
        "        y_preds.append(self.H[len(self.hidden_layer_sizes)+1])\n",
        "        \n",
        "        #Backward Propogation using Loss funtion MSE\n",
        "        self.backward_propogation(x,y, dw_i, db_i) \n",
        "\n",
        "        for i in range(len(self.hidden_layer_sizes)+1):\n",
        "          self.dw[i+1] += dw_i[i+1]\n",
        "          self.db[i+1] += db_i[i+1]\n",
        "\n",
        "      #Update weights based on loss(GD hence once every epoch update)\n",
        "      self.weights, self.biases = self.optimizer.update_parameters(self.weights, self.biases, self.dw, self.db, len(self.hidden_layer_sizes))\n",
        "      #self.gradient_descent()\n",
        "      y_preds = np.array(y_preds).squeeze()\n",
        "      print(\"Epoch: \",e,\" Loss: \",self.cross_entropy(Y, y_preds) )\n",
        "\n",
        "\n",
        "  def predict(self, X):\n",
        "    #Find the predictions based on the fitted model\n",
        "    values = self.forward_propogation(X)\n",
        "    predictions = self.H[len(self.hidden_layer_sizes)+1]\n",
        "    return predictions\n",
        "      \n"
      ],
      "metadata": {
        "id": "3gAqONnE7xSn"
      },
      "execution_count": null,
      "outputs": []
    },
    {
      "cell_type": "code",
      "execution_count": null,
      "metadata": {
        "id": "l_N_uz7vTFYs"
      },
      "outputs": [],
      "source": [
        "class GD():\n",
        "  def __init__(self, learning_rate = 0.001):\n",
        "    self.learning_rate = learning_rate\n",
        "\n",
        "  def set_initial_parameters(self, parameters):\n",
        "    self.learning_rate = parameters[\"learning_rate\"]\n",
        "\n",
        "  def update_parameters(self, weights, biases, dw, db, layers):\n",
        "    for i in range(layers+1):\n",
        "        # w_t = w_{t-1} - eta*(dL/dw)\n",
        "        weights[i+1] = weights[i+1] - self.learning_rate * dw[i+1]\n",
        "        # b_t = b_{t-1} - eta*(dL/db)\n",
        "        biases[i+1] = biases[i+1] - self.learning_rate * db[i+1]\n",
        "    return weights, biases\n"
      ]
    },
    {
      "cell_type": "code",
      "source": [
        "class Sigmoid():\n",
        "  def compute_activation(X):\n",
        "    return 1.0/(1.0+np.exp(-X))\n",
        "\n",
        "  def compute_derivative(X):\n",
        "    #Here X is the activation value\n",
        "    #sigmoid = compute_activation(X)\n",
        "    return X*(1-X)\n",
        "\n",
        "class Softmax():\n",
        "  def compute_activation(X):\n",
        "    return 1.0/(1.0+np.exp(-X))\n",
        "\n",
        "  def compute_derivative(X):\n",
        "    #Here X is the activation value\n",
        "    #sigmoid = compute_activation(X)\n",
        "    return X*(1-X)"
      ],
      "metadata": {
        "id": "4bjDjyXzi2c5"
      },
      "execution_count": null,
      "outputs": []
    },
    {
      "cell_type": "code",
      "source": [
        "class CrossEntropy():\n",
        "  def compute_loss(Y_true, Y_pred):\n",
        "    loss=np.multiply(Y_pred,Y_true)\n",
        "    loss=loss[loss!=0]\n",
        "    loss=-np.log(loss)\n",
        "    loss=np.mean(loss)\n",
        "    return loss\n",
        "\n",
        "  def compute_derivative(Y_pred,Y_true):\n",
        "    return -Y_true/(Y_pred)"
      ],
      "metadata": {
        "id": "4VBEHbJu53sn"
      },
      "execution_count": null,
      "outputs": []
    },
    {
      "cell_type": "code",
      "source": [
        "optimizers = {\"gradient_descent\":GD()}\n",
        "loss_functions = {\"cross_entropy\":CrossEntropy()}\n",
        "activation_functions = {\"sigmoid\" = Sigmoid()}\n",
        "\n",
        "optimizer_gd = optimizers[\"gradient_descent\"]\n",
        "loss_cross_entropy = loss_functions[\"cross_entropy\"]\n",
        "activation_sigmoid = activation_functions[\"sigmoid\"]\n",
        "\n",
        "optimizer_parameters = {\"learning_rate\":0.00001}\n",
        "optimizer_gd.set_initial_parameters(optimizer_parameters)\n",
        "\n",
        "layers = [100,128,64]\n",
        "\n",
        "model = FeedForwardNeuralNetwork(layers, 10, optimizer_gd, loss_cross_entropy, activation_sigmoid)\n",
        "\n",
        "model.fit(x_train[0:10000], y_encoded[0:10000])\n"
      ],
      "metadata": {
        "colab": {
          "base_uri": "https://localhost:8080/"
        },
        "id": "fRbCux1s67h5",
        "outputId": "860560d2-da5b-4d76-e8a9-02cc02409d30"
      },
      "execution_count": null,
      "outputs": [
        {
          "output_type": "stream",
          "name": "stdout",
          "text": [
            "Epoch:  0  Loss:  11.158632878711602577\n",
            "Epoch:  1  Loss:  56.459906650211561987\n",
            "Epoch:  2  Loss:  103.18513388453057602\n",
            "Epoch:  3  Loss:  145.23074438298768855\n",
            "Epoch:  4  Loss:  178.47091976878302264\n",
            "Epoch:  5  Loss:  203.24233294268224395\n",
            "Epoch:  6  Loss:  190.9932346744848967\n"
          ]
        }
      ]
    }
  ],
  "metadata": {
    "colab": {
      "collapsed_sections": [],
      "name": "Assignment_1.ipynb",
      "provenance": [],
      "include_colab_link": true
    },
    "kernelspec": {
      "display_name": "Python 3",
      "name": "python3"
    },
    "language_info": {
      "name": "python"
    },
    "widgets": {
      "application/vnd.jupyter.widget-state+json": {
        "8e7957ee1079447a986641d17145d424": {
          "model_module": "@jupyter-widgets/controls",
          "model_name": "VBoxModel",
          "model_module_version": "1.5.0",
          "state": {
            "_view_name": "VBoxView",
            "_dom_classes": [],
            "_model_name": "VBoxModel",
            "_view_module": "@jupyter-widgets/controls",
            "_model_module_version": "1.5.0",
            "_view_count": null,
            "_view_module_version": "1.5.0",
            "box_style": "",
            "layout": "IPY_MODEL_2fa9e60928144aeda196ad3e80d6b375",
            "_model_module": "@jupyter-widgets/controls",
            "children": [
              "IPY_MODEL_ce3d234978654abd9336b4cb656329b2",
              "IPY_MODEL_bab8f9934409453bb207e5d733671562"
            ]
          }
        },
        "2fa9e60928144aeda196ad3e80d6b375": {
          "model_module": "@jupyter-widgets/base",
          "model_name": "LayoutModel",
          "model_module_version": "1.2.0",
          "state": {
            "_view_name": "LayoutView",
            "grid_template_rows": null,
            "right": null,
            "justify_content": null,
            "_view_module": "@jupyter-widgets/base",
            "overflow": null,
            "_model_module_version": "1.2.0",
            "_view_count": null,
            "flex_flow": null,
            "width": null,
            "min_width": null,
            "border": null,
            "align_items": null,
            "bottom": null,
            "_model_module": "@jupyter-widgets/base",
            "top": null,
            "grid_column": null,
            "overflow_y": null,
            "overflow_x": null,
            "grid_auto_flow": null,
            "grid_area": null,
            "grid_template_columns": null,
            "flex": null,
            "_model_name": "LayoutModel",
            "justify_items": null,
            "grid_row": null,
            "max_height": null,
            "align_content": null,
            "visibility": null,
            "align_self": null,
            "height": null,
            "min_height": null,
            "padding": null,
            "grid_auto_rows": null,
            "grid_gap": null,
            "max_width": null,
            "order": null,
            "_view_module_version": "1.2.0",
            "grid_template_areas": null,
            "object_position": null,
            "object_fit": null,
            "grid_auto_columns": null,
            "margin": null,
            "display": null,
            "left": null
          }
        },
        "ce3d234978654abd9336b4cb656329b2": {
          "model_module": "@jupyter-widgets/controls",
          "model_name": "LabelModel",
          "model_module_version": "1.5.0",
          "state": {
            "_view_name": "LabelView",
            "style": "IPY_MODEL_958a22d79e694e6f9d33449e6ba6de4f",
            "_dom_classes": [],
            "description": "",
            "_model_name": "LabelModel",
            "placeholder": "​",
            "_view_module": "@jupyter-widgets/controls",
            "_model_module_version": "1.5.0",
            "value": " 0.01MB of 0.01MB uploaded (0.00MB deduped)\r",
            "_view_count": null,
            "_view_module_version": "1.5.0",
            "description_tooltip": null,
            "_model_module": "@jupyter-widgets/controls",
            "layout": "IPY_MODEL_fd3a812eb92e4e89b4969925c9aa5c7e"
          }
        },
        "bab8f9934409453bb207e5d733671562": {
          "model_module": "@jupyter-widgets/controls",
          "model_name": "FloatProgressModel",
          "model_module_version": "1.5.0",
          "state": {
            "_view_name": "ProgressView",
            "style": "IPY_MODEL_c1e9599694e742eab85b5aa4d06fa20a",
            "_dom_classes": [],
            "description": "",
            "_model_name": "FloatProgressModel",
            "bar_style": "",
            "max": 1,
            "_view_module": "@jupyter-widgets/controls",
            "_model_module_version": "1.5.0",
            "value": 1,
            "_view_count": null,
            "_view_module_version": "1.5.0",
            "orientation": "horizontal",
            "min": 0,
            "description_tooltip": null,
            "_model_module": "@jupyter-widgets/controls",
            "layout": "IPY_MODEL_b264b44dcf334945bb1141e7cdd50535"
          }
        },
        "958a22d79e694e6f9d33449e6ba6de4f": {
          "model_module": "@jupyter-widgets/controls",
          "model_name": "DescriptionStyleModel",
          "model_module_version": "1.5.0",
          "state": {
            "_view_name": "StyleView",
            "_model_name": "DescriptionStyleModel",
            "description_width": "",
            "_view_module": "@jupyter-widgets/base",
            "_model_module_version": "1.5.0",
            "_view_count": null,
            "_view_module_version": "1.2.0",
            "_model_module": "@jupyter-widgets/controls"
          }
        },
        "fd3a812eb92e4e89b4969925c9aa5c7e": {
          "model_module": "@jupyter-widgets/base",
          "model_name": "LayoutModel",
          "model_module_version": "1.2.0",
          "state": {
            "_view_name": "LayoutView",
            "grid_template_rows": null,
            "right": null,
            "justify_content": null,
            "_view_module": "@jupyter-widgets/base",
            "overflow": null,
            "_model_module_version": "1.2.0",
            "_view_count": null,
            "flex_flow": null,
            "width": null,
            "min_width": null,
            "border": null,
            "align_items": null,
            "bottom": null,
            "_model_module": "@jupyter-widgets/base",
            "top": null,
            "grid_column": null,
            "overflow_y": null,
            "overflow_x": null,
            "grid_auto_flow": null,
            "grid_area": null,
            "grid_template_columns": null,
            "flex": null,
            "_model_name": "LayoutModel",
            "justify_items": null,
            "grid_row": null,
            "max_height": null,
            "align_content": null,
            "visibility": null,
            "align_self": null,
            "height": null,
            "min_height": null,
            "padding": null,
            "grid_auto_rows": null,
            "grid_gap": null,
            "max_width": null,
            "order": null,
            "_view_module_version": "1.2.0",
            "grid_template_areas": null,
            "object_position": null,
            "object_fit": null,
            "grid_auto_columns": null,
            "margin": null,
            "display": null,
            "left": null
          }
        },
        "c1e9599694e742eab85b5aa4d06fa20a": {
          "model_module": "@jupyter-widgets/controls",
          "model_name": "ProgressStyleModel",
          "model_module_version": "1.5.0",
          "state": {
            "_view_name": "StyleView",
            "_model_name": "ProgressStyleModel",
            "description_width": "",
            "_view_module": "@jupyter-widgets/base",
            "_model_module_version": "1.5.0",
            "_view_count": null,
            "_view_module_version": "1.2.0",
            "bar_color": null,
            "_model_module": "@jupyter-widgets/controls"
          }
        },
        "b264b44dcf334945bb1141e7cdd50535": {
          "model_module": "@jupyter-widgets/base",
          "model_name": "LayoutModel",
          "model_module_version": "1.2.0",
          "state": {
            "_view_name": "LayoutView",
            "grid_template_rows": null,
            "right": null,
            "justify_content": null,
            "_view_module": "@jupyter-widgets/base",
            "overflow": null,
            "_model_module_version": "1.2.0",
            "_view_count": null,
            "flex_flow": null,
            "width": null,
            "min_width": null,
            "border": null,
            "align_items": null,
            "bottom": null,
            "_model_module": "@jupyter-widgets/base",
            "top": null,
            "grid_column": null,
            "overflow_y": null,
            "overflow_x": null,
            "grid_auto_flow": null,
            "grid_area": null,
            "grid_template_columns": null,
            "flex": null,
            "_model_name": "LayoutModel",
            "justify_items": null,
            "grid_row": null,
            "max_height": null,
            "align_content": null,
            "visibility": null,
            "align_self": null,
            "height": null,
            "min_height": null,
            "padding": null,
            "grid_auto_rows": null,
            "grid_gap": null,
            "max_width": null,
            "order": null,
            "_view_module_version": "1.2.0",
            "grid_template_areas": null,
            "object_position": null,
            "object_fit": null,
            "grid_auto_columns": null,
            "margin": null,
            "display": null,
            "left": null
          }
        }
      }
    }
  },
  "nbformat": 4,
  "nbformat_minor": 0
}